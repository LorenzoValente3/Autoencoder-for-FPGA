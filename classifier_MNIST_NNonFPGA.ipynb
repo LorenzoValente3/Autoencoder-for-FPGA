{
 "cells": [
  {
   "cell_type": "markdown",
   "metadata": {},
   "source": [
    "Import necessari"
   ]
  },
  {
   "cell_type": "code",
   "execution_count": 1,
   "metadata": {},
   "outputs": [],
   "source": [
    "#import standard\n",
    "import numpy as np\n",
    "import scipy.ndimage\n",
    "import matplotlib.pyplot as plt\n",
    "\n",
    "#import preprocessing\n",
    "from tensorflow.keras.datasets import mnist\n",
    "\n",
    "#per trasformare un intero rapresentante una classe in un array one hot encoded\n",
    "from tensorflow.keras.utils import to_categorical\n",
    "\n",
    "#import per il modello\n",
    "from tensorflow.python.keras.engine.functional import Functional\n",
    "from tensorflow.python.keras import Input\n",
    "\n",
    "\n",
    "from tensorflow.keras.models import Sequential, Model\n",
    "from tensorflow.keras.layers import Dense\n",
    "from tensorflow.keras.regularizers import l2,l1 "
   ]
  },
  {
   "cell_type": "markdown",
   "metadata": {},
   "source": [
    "definizione di funzioni utili"
   ]
  },
  {
   "cell_type": "code",
   "execution_count": 18,
   "metadata": {},
   "outputs": [],
   "source": [
    "def get_weights_nparray(model):\n",
    "    \n",
    "    weights = []\n",
    "    for layer in model.layers:\n",
    "        for M in layer.get_weights():\n",
    "            for W in M:\n",
    "                for w in W.flatten():\n",
    "                    weights.append(w)\n",
    "\n",
    "    #ora ho un ndarray con tutti i weights e bias\n",
    "    weights = np.array(weights)\n",
    "    \n",
    "    return weights\n",
    "\n",
    "def pruning(model, soglia_percentile = 100/33, minimum_weight = 2**-5):\n",
    "\n",
    "    model_config = model.get_config()\n",
    "    model_pruned = Sequential.from_config(model_config)\n",
    "    \n",
    "    \n",
    "    weights = get_weights_nparray(model)\n",
    "    \n",
    "    total_weights = model.count_params()\n",
    "    non_zero_weight = len(weights[weights != 0])\n",
    "    print('initial non zero weights: ', non_zero_weight, ' su: ', total_weights)\n",
    "    \n",
    "    absolute_max = np.absolute(weights.max())\n",
    "    #weights = np.absolute(weights/absolute_max)\n",
    "    \n",
    "    print('\\npeso massimo: ',absolute_max)\n",
    "    \n",
    "    soglia = np.percentile(np.absolute(weights[weights != 0]), soglia_percentile)\n",
    "    print('\\nsoglia percentile: ',soglia, '\\tsoglia min W: ', minimum_weight)\n",
    "    if soglia < minimum_weight:\n",
    "        soglia = minimum_weight\n",
    "    \n",
    "    print('\\nsoglia: ',soglia)\n",
    "    \n",
    "    \n",
    "    list_M_pruned = []\n",
    "    \n",
    "    for M in model.get_weights():\n",
    "        #index_to_prune = np.logical_not(np.all([M < soglia, M > -soglia],axis=0))\n",
    "        index_to_prune = np.all([M < soglia, M > -soglia],axis=0)\n",
    "    \n",
    "        M_pruned = np.copy(M)\n",
    "    \n",
    "        M_pruned[index_to_prune] = 0\n",
    "    \n",
    "        list_M_pruned.append(M_pruned)\n",
    "    \n",
    "    model_pruned.set_weights(list_M_pruned)\n",
    "    \n",
    "    weights = get_weights_nparray(model_pruned)\n",
    "    non_zero_weight = len(weights[weights != 0])\n",
    "    print('\\nafter pruning non zero weights: ', non_zero_weight, ' su: ', total_weights)\n",
    "    \n",
    "    return model_pruned\n",
    "\n",
    "def save_model(model, name):\n",
    "\n",
    "    model.save('complete_model_' + name + '.h5')\n",
    "\n",
    "    model_json_string = model.to_json()\n",
    "    with open('model_' + name + '.json', 'w') as f:\n",
    "        f.write(model_json_string)\n",
    "    \n",
    "    model.save_weights('model_weights_' + name + '.h5')"
   ]
  },
  {
   "cell_type": "markdown",
   "metadata": {},
   "source": [
    "caricamento del dataset e preprocessing"
   ]
  },
  {
   "cell_type": "code",
   "execution_count": 2,
   "metadata": {
    "scrolled": true
   },
   "outputs": [
    {
     "data": {
      "text/plain": [
       "dtype('uint8')"
      ]
     },
     "execution_count": 2,
     "metadata": {},
     "output_type": "execute_result"
    }
   ],
   "source": [
    "#download mnist data and split into train and test sets\n",
    "(X_train, y_train_int), (X_test, y_test_int) = mnist.load_data()\n",
    "\n",
    "#one-hot encode target column\n",
    "y_train = to_categorical(y_train_int)\n",
    "y_test = to_categorical(y_test_int)\n",
    "\n",
    "X_train[0].dtype"
   ]
  },
  {
   "cell_type": "code",
   "execution_count": 3,
   "metadata": {},
   "outputs": [],
   "source": [
    "#genero le immagini flat and zoom a 5-bit di color depth in scala di grigio\n",
    "\n",
    "#-----USER DEFINED VALUES--------------------------- \n",
    "\n",
    "#dimensione taglio iniziale delle immagini originali che sono 28. \n",
    "#Questa procedura è un male necessario, vi è un tradeoff fra questa e size_final\n",
    "size_initial = 20\n",
    "\n",
    "#dimensione finale delle immagini\n",
    "size_final = 8\n",
    "\n",
    "#profondità pixel in bit\n",
    "color_depth = 5\n",
    "\n",
    "#---------------------------------------------------\n",
    "\n",
    "X_train_flat_zoom = []\n",
    "X_test_flat_zoom = []\n",
    "\n",
    "X_train_flat_zoom_int = []\n",
    "X_test_flat_zoom_int = []\n",
    "\n",
    "#defisce gli indici del cropping definito da size_initial\n",
    "bordo = (28-size_initial)//2\n",
    "bordo_top = -bordo\n",
    "if bordo == 0:\n",
    "    bordo_top = None\n",
    "\n",
    "    \n",
    "#processing Training Set\n",
    "for image in X_train:\n",
    "    tmp = scipy.ndimage.zoom(image[bordo:bordo_top, bordo:bordo_top], size_final/size_initial).flatten()\n",
    "    tmp = (tmp/(256//2**color_depth)).astype(int)\n",
    "    X_train_flat_zoom.append(tmp/2**color_depth)\n",
    "    X_train_flat_zoom_int.append(tmp)\n",
    "\n",
    "#processing Test Set\n",
    "for image in X_test:\n",
    "    tmp = scipy.ndimage.zoom(image[bordo:bordo_top, bordo:bordo_top], size_final/size_initial).flatten()\n",
    "    tmp = (tmp/(256//2**color_depth)).astype(int)\n",
    "    X_test_flat_zoom.append(tmp/2**color_depth)\n",
    "    X_test_flat_zoom_int.append(tmp)\n",
    "    \n",
    "X_train_flat_zoom = np.array(X_train_flat_zoom)\n",
    "X_test_flat_zoom = np.array(X_test_flat_zoom)\n",
    "\n",
    "X_train_flat_zoom_int = np.array(X_train_flat_zoom_int)\n",
    "X_test_flat_zoom_int = np.array(X_test_flat_zoom_int)"
   ]
  },
  {
   "cell_type": "code",
   "execution_count": 17,
   "metadata": {},
   "outputs": [
    {
     "name": "stdout",
     "output_type": "stream",
     "text": [
      "(60000, 64)\n",
      "int32\n"
     ]
    },
    {
     "data": {
      "image/png": "[encoded data removed]",
      "text/plain": [
       "<Figure size 432x288 with 1 Axes>"
      ]
     },
     "metadata": {
      "needs_background": "light"
     },
     "output_type": "display_data"
    }
   ],
   "source": [
    "\n",
    "plt.imshow(X_test_flat_zoom_int[0].reshape((size_final,size_final)), cmap='gray')  \n",
    "\n",
    "print (X_train_flat_zoom.shape)\n",
    "print (X_train_flat_zoom_int.dtype)"
   ]
  },
  {
   "cell_type": "code",
   "execution_count": null,
   "metadata": {},
   "outputs": [],
   "source": []
  },
  {
   "cell_type": "code",
   "execution_count": 4,
   "metadata": {},
   "outputs": [
    {
     "name": "stdout",
     "output_type": "stream",
     "text": [
      "Model: \"functional_1\"\n",
      "_________________________________________________________________\n",
      "Layer (type)                 Output Shape              Param #   \n",
      "=================================================================\n",
      "input_1 (InputLayer)         [(None, 64)]              0         \n",
      "_________________________________________________________________\n",
      "dense (Dense)                (None, 32)                2080      \n",
      "_________________________________________________________________\n",
      "dense_1 (Dense)              (None, 2)                 66        \n",
      "_________________________________________________________________\n",
      "dense_2 (Dense)              (None, 32)                96        \n",
      "_________________________________________________________________\n",
      "dense_3 (Dense)              (None, 64)                2112      \n",
      "=================================================================\n",
      "Total params: 4,354\n",
      "Trainable params: 4,354\n",
      "Non-trainable params: 0\n",
      "_________________________________________________________________\n"
     ]
    }
   ],
   "source": [
    "#ENCODER\n",
    "input = Input(shape=(X_train_flat_zoom_int.shape[-1],))\n",
    "encoder = Dense(32, activation='relu')(input)\n",
    "encoder = Dense(2, activation='relu')(encoder)\n",
    "\n",
    "#DECODER\n",
    "decoder = Dense(32, activation='relu')(encoder)\n",
    "decoder = Dense(64, activation='sigmoid')(decoder)\n",
    "\n",
    "#AUTOENCODER\n",
    "autoencoder = Model ( input, outputs=decoder)\n",
    "autoencoder.compile(loss='mse', optimizer='adam')\n",
    "autoencoder.summary()"
   ]
  },
  {
   "cell_type": "code",
   "execution_count": 6,
   "metadata": {},
   "outputs": [
    {
     "name": "stdout",
     "output_type": "stream",
     "text": [
      "Epoch 1/20\n",
      "235/235 [==============================] - 1s 5ms/step - loss: 0.1300 - val_loss: 0.1014\n",
      "Epoch 2/20\n",
      "235/235 [==============================] - 1s 4ms/step - loss: 0.0979 - val_loss: 0.0946\n",
      "Epoch 3/20\n",
      "235/235 [==============================] - 1s 3ms/step - loss: 0.0930 - val_loss: 0.0911\n",
      "Epoch 4/20\n",
      "235/235 [==============================] - 1s 3ms/step - loss: 0.0903 - val_loss: 0.0891\n",
      "Epoch 5/20\n",
      "235/235 [==============================] - 1s 3ms/step - loss: 0.0885 - val_loss: 0.0876\n",
      "Epoch 6/20\n",
      "235/235 [==============================] - 1s 3ms/step - loss: 0.0871 - val_loss: 0.0862\n",
      "Epoch 7/20\n",
      "235/235 [==============================] - 1s 3ms/step - loss: 0.0856 - val_loss: 0.0847\n",
      "Epoch 8/20\n",
      "235/235 [==============================] - 1s 3ms/step - loss: 0.0842 - val_loss: 0.0832\n",
      "Epoch 9/20\n",
      "235/235 [==============================] - 1s 3ms/step - loss: 0.0829 - val_loss: 0.0820\n",
      "Epoch 10/20\n",
      "235/235 [==============================] - 1s 3ms/step - loss: 0.0817 - val_loss: 0.0810\n",
      "Epoch 11/20\n",
      "235/235 [==============================] - 1s 3ms/step - loss: 0.0807 - val_loss: 0.0802\n",
      "Epoch 12/20\n",
      "235/235 [==============================] - 1s 3ms/step - loss: 0.0800 - val_loss: 0.0797\n",
      "Epoch 13/20\n",
      "235/235 [==============================] - 1s 3ms/step - loss: 0.0794 - val_loss: 0.0792\n",
      "Epoch 14/20\n",
      "235/235 [==============================] - 1s 3ms/step - loss: 0.0790 - val_loss: 0.0788\n",
      "Epoch 15/20\n",
      "235/235 [==============================] - 1s 3ms/step - loss: 0.0786 - val_loss: 0.0784\n",
      "Epoch 16/20\n",
      "235/235 [==============================] - 1s 3ms/step - loss: 0.0782 - val_loss: 0.0780\n",
      "Epoch 17/20\n",
      "235/235 [==============================] - 1s 3ms/step - loss: 0.0779 - val_loss: 0.0777\n",
      "Epoch 18/20\n",
      "235/235 [==============================] - 1s 3ms/step - loss: 0.0776 - val_loss: 0.0774\n",
      "Epoch 19/20\n",
      "235/235 [==============================] - 1s 3ms/step - loss: 0.0772 - val_loss: 0.0770\n",
      "Epoch 20/20\n",
      "235/235 [==============================] - 1s 3ms/step - loss: 0.0768 - val_loss: 0.0766\n"
     ]
    }
   ],
   "source": [
    "history = autoencoder.fit(X_train_flat_zoom, X_train_flat_zoom,\n",
    "                            validation_data=(X_test_flat_zoom, X_test_flat_zoom),\n",
    "                            batch_size = 256, epochs = 20,\n",
    "                            shuffle = True\n",
    "                             )"
   ]
  },
  {
   "cell_type": "markdown",
   "metadata": {},
   "source": [
    "Definizione dell'architettura NN e addestramento"
   ]
  },
  {
   "cell_type": "code",
   "execution_count": 90,
   "metadata": {},
   "outputs": [
    {
     "name": "stdout",
     "output_type": "stream",
     "text": [
      "Model: \"sequential_3\"\n",
      "_________________________________________________________________\n",
      "Layer (type)                 Output Shape              Param #   \n",
      "=================================================================\n",
      "dense_9 (Dense)              (None, 32)                2080      \n",
      "_________________________________________________________________\n",
      "dense_10 (Dense)             (None, 16)                528       \n",
      "_________________________________________________________________\n",
      "dense_11 (Dense)             (None, 10)                170       \n",
      "=================================================================\n",
      "Total params: 2,778\n",
      "Trainable params: 2,778\n",
      "Non-trainable params: 0\n",
      "_________________________________________________________________\n"
     ]
    }
   ],
   "source": [
    "model_flat_zoom = Sequential([\n",
    "    Dense(32, input_shape=(X_train_flat_zoom.shape[-1],), activation='relu', kernel_regularizer=l2(0.01)),  \n",
    "    Dense(16, activation='relu', kernel_regularizer=l2(0.01)),\n",
    "    Dense(10, activation='softmax', kernel_regularizer=l2(0.01))\n",
    "                        ])\n",
    "\n",
    "model_flat_zoom.summary()"
   ]
  },
  {
   "cell_type": "code",
   "execution_count": 91,
   "metadata": {},
   "outputs": [
    {
     "name": "stdout",
     "output_type": "stream",
     "text": [
      "Train on 60000 samples, validate on 10000 samples\n",
      "Epoch 1/15\n",
      "60000/60000 [==============================] - 2s 36us/sample - loss: 1.4470 - acc: 0.7483 - val_loss: 0.6672 - val_acc: 0.8870\n",
      "Epoch 2/15\n",
      "60000/60000 [==============================] - 2s 33us/sample - loss: 0.5714 - acc: 0.8990 - val_loss: 0.4732 - val_acc: 0.92015890 - acc: 0 - ETA: 0s - loss: 0.5767 - acc: 0.89\n",
      "Epoch 3/15\n",
      "60000/60000 [==============================] - 2s 33us/sample - loss: 0.4650 - acc: 0.9176 - val_loss: 0.4244 - val_acc: 0.9262\n",
      "Epoch 4/15\n",
      "60000/60000 [==============================] - 2s 33us/sample - loss: 0.4307 - acc: 0.9260 - val_loss: 0.4236 - val_acc: 0.9271\n",
      "Epoch 5/15\n",
      "60000/60000 [==============================] - 2s 33us/sample - loss: 0.4179 - acc: 0.9283 - val_loss: 0.3962 - val_acc: 0.9353 0s - loss: 0.4158 - acc\n",
      "Epoch 6/15\n",
      "60000/60000 [==============================] - 2s 33us/sample - loss: 0.4082 - acc: 0.9316 - val_loss: 0.3996 - val_acc: 0.9331\n",
      "Epoch 7/15\n",
      "60000/60000 [==============================] - 2s 33us/sample - loss: 0.4029 - acc: 0.9333 - val_loss: 0.3845 - val_acc: 0.9406 - loss: 0.4044 - acc: 0.\n",
      "Epoch 8/15\n",
      "60000/60000 [==============================] - 2s 32us/sample - loss: 0.3989 - acc: 0.9345 - val_loss: 0.3929 - val_acc: 0.9356s - loss: 0.3976 - acc:\n",
      "Epoch 9/15\n",
      "60000/60000 [==============================] - 2s 32us/sample - loss: 0.3968 - acc: 0.9359 - val_loss: 0.3857 - val_acc: 0.9389\n",
      "Epoch 10/15\n",
      "60000/60000 [==============================] - 2s 33us/sample - loss: 0.3939 - acc: 0.9363 - val_loss: 0.3775 - val_acc: 0.9442loss: 0.3937 - acc\n",
      "Epoch 11/15\n",
      "60000/60000 [==============================] - 2s 32us/sample - loss: 0.3922 - acc: 0.9375 - val_loss: 0.3861 - val_acc: 0.9387\n",
      "Epoch 12/15\n",
      "60000/60000 [==============================] - 2s 33us/sample - loss: 0.3904 - acc: 0.9387 - val_loss: 0.3730 - val_acc: 0.9453\n",
      "Epoch 13/15\n",
      "60000/60000 [==============================] - 2s 33us/sample - loss: 0.3889 - acc: 0.9385 - val_loss: 0.3954 - val_acc: 0.9364\n",
      "Epoch 14/15\n",
      "60000/60000 [==============================] - ETA: 0s - loss: 0.3878 - acc: 0.9404- ETA: 1s - lo - 2s 32us/sample - loss: 0.3879 - acc: 0.9404 - val_loss: 0.3697 - val_acc: 0.9452\n",
      "Epoch 15/15\n",
      "60000/60000 [==============================] - 2s 32us/sample - loss: 0.3882 - acc: 0.9389 - val_loss: 0.3705 - val_acc: 0.9471\n"
     ]
    },
    {
     "data": {
      "text/plain": [
       "<tensorflow.python.keras.callbacks.History at 0x17da3a374a8>"
      ]
     },
     "execution_count": 91,
     "metadata": {},
     "output_type": "execute_result"
    }
   ],
   "source": [
    "#epoche di training\n",
    "training_epoch = 15\n",
    "\n",
    "#compilazione del modello\n",
    "model_flat_zoom.compile(optimizer='adam', loss='categorical_crossentropy', metrics=['accuracy'])\n",
    "\n",
    "#training del modello\n",
    "history = model_flat_zoom.fit(x=X_train_flat_zoom_int, y=y_train, validation_data=(X_test_flat_zoom_int, y_test), epochs=training_epoch)"
   ]
  },
  {
   "cell_type": "code",
   "execution_count": null,
   "metadata": {},
   "outputs": [],
   "source": [
    "plt.plot(history.history['acc'])\n",
    "plt.plot(history.history['val_acc'])\n",
    "plt.title('Model accuracy')\n",
    "plt.ylabel('Accuracy')\n",
    "plt.xlabel('Epoch')\n",
    "plt.legend(['Train', 'Test'], loc='upper left')\n",
    "plt.show()"
   ]
  },
  {
   "cell_type": "markdown",
   "metadata": {},
   "source": [
    "Pruning del modello e verifica dell'accuratezza sul Test Set"
   ]
  },
  {
   "cell_type": "code",
   "execution_count": 92,
   "metadata": {},
   "outputs": [
    {
     "name": "stdout",
     "output_type": "stream",
     "text": [
      "initial non zero weights:  2778  su:  2778\n",
      "\n",
      "peso massimo:  0.972445\n",
      "\n",
      "soglia percentile:  0.0005083537773426735 \tsoglia min W:  0.03125\n",
      "\n",
      "soglia:  0.03125\n",
      "\n",
      "after pruning non zero weights:  1527  su:  2778\n"
     ]
    }
   ],
   "source": [
    "model_flat_zoom_pruned = pruning(model_flat_zoom, minimum_weight=2**-5)"
   ]
  },
  {
   "cell_type": "code",
   "execution_count": 93,
   "metadata": {},
   "outputs": [
    {
     "name": "stderr",
     "output_type": "stream",
     "text": [
      "C:\\Users\\Giordano\\Anaconda3\\lib\\site-packages\\ipykernel_launcher.py:2: RuntimeWarning: invalid value encountered in log2\n",
      "  \n",
      "C:\\Users\\Giordano\\Anaconda3\\lib\\site-packages\\numpy\\lib\\histograms.py:824: RuntimeWarning: invalid value encountered in greater_equal\n",
      "  keep = (tmp_a >= first_edge)\n",
      "C:\\Users\\Giordano\\Anaconda3\\lib\\site-packages\\numpy\\lib\\histograms.py:825: RuntimeWarning: invalid value encountered in less_equal\n",
      "  keep &= (tmp_a <= last_edge)\n"
     ]
    },
    {
     "data": {
      "text/plain": [
       "(array([85., 72., 77., 90., 70., 79., 61., 51., 48., 37., 33., 27.,  9.,\n",
       "        13.,  6.,  5.,  7.,  5.,  1.,  2.]),\n",
       " array([-4.999821  , -4.751846  , -4.50387   , -4.2558947 , -4.0079193 ,\n",
       "        -3.7599437 , -3.5119684 , -3.2639928 , -3.0160172 , -2.7680418 ,\n",
       "        -2.5200663 , -2.272091  , -2.0241153 , -1.7761399 , -1.5281644 ,\n",
       "        -1.2801889 , -1.0322133 , -0.78423786, -0.5362624 , -0.28828692,\n",
       "        -0.04031142], dtype=float32),\n",
       " <a list of 20 Patch objects>)"
      ]
     },
     "execution_count": 93,
     "metadata": {},
     "output_type": "execute_result"
    },
    {
     "data": {
      "image/png": "[encoded data removed]",
      "text/plain": [
       "<Figure size 432x288 with 1 Axes>"
      ]
     },
     "metadata": {
      "needs_background": "light"
     },
     "output_type": "display_data"
    }
   ],
   "source": [
    "w_flat_zoom_pruned = np.absolute(get_weights_nparray(model_flat_zoom_pruned))\n",
    "plt.hist(np.log2(w_flat_zoom_pruned[w_flat_zoom_pruned!=0]), bins=20)"
   ]
  },
  {
   "cell_type": "code",
   "execution_count": 94,
   "metadata": {},
   "outputs": [
    {
     "name": "stdout",
     "output_type": "stream",
     "text": [
      "    Loss   Accuracy\n"
     ]
    },
    {
     "data": {
      "text/plain": [
       "[0.38490096, 0.9423]"
      ]
     },
     "execution_count": 94,
     "metadata": {},
     "output_type": "execute_result"
    }
   ],
   "source": [
    "model_flat_zoom_pruned.compile(optimizer='adam', loss='categorical_crossentropy', metrics=['accuracy'])\n",
    "print('    Loss   Accuracy')\n",
    "model_flat_zoom_pruned.test_on_batch(x=X_test_flat_zoom_int, y=y_test)"
   ]
  },
  {
   "cell_type": "markdown",
   "metadata": {},
   "source": [
    "Salvataggio del modello"
   ]
  },
  {
   "cell_type": "code",
   "execution_count": 95,
   "metadata": {},
   "outputs": [],
   "source": [
    "name_model = 'MNIST_flat' + str(size_final) + '_' + str(color_depth) + 'bit'\n",
    "\n",
    "save_model(model_flat_zoom, name_model)\n",
    "save_model(model_flat_zoom_pruned, name_model + '_pruned')"
   ]
  },
  {
   "cell_type": "markdown",
   "metadata": {},
   "source": [
    "Salvataggio delle immagini test da inserire nella FPGA"
   ]
  },
  {
   "cell_type": "code",
   "execution_count": 96,
   "metadata": {},
   "outputs": [],
   "source": [
    "#lista contenente gli indici delle immagini campione nel Test Set del MNIST\n",
    "#num_list[0] contiene l'indice dell'immagine di uno zero, num_list[1] di un uno e così via\n",
    "#           0  1  2  3  4  5  6  7  8  9          \n",
    "num_list = [3, 2, 1, 32,4, 15,21,0, 61,12]\n",
    "\n",
    "\n",
    "#---------------------------------------------------------\n",
    "#--FORMAT OF INPUT IMAGES FOR NN IN FPGA------------------\n",
    "#----------- ap_fixed<7,2> -------------------------------\n",
    "#---------------------------------------------------------\n",
    "\n",
    "# last pixel                 first pixel\n",
    "#[0  0  1  0  0  0  0 | ... | 0  0  0  1  0  0  0]\n",
    "# s  0 -1 -2 -3 -4 -5         s  0 -1 -2 -3 -4 -5 \n",
    "#    2  2  2  2  2  2            2  2  2  2  2  2\n",
    "\n",
    "with open('TESTimg_downto_apfixed7_2.txt', 'w') as f:\n",
    "    for index , num in enumerate(num_list):\n",
    "        f.write(str(index)+ ': ')\n",
    "        for i in np.flip(X_test_flat_zoom_int[num]):\n",
    "            f.write('{:07d}'.format(int((bin(i)[2:]))))\n",
    "        f.write('\\n\\n')\n",
    "        \n",
    "        \n",
    "#---------------------------------------------------------\n",
    "#--FORMAT OF INPUT IMAGES FOR NN IN FPGA------------------\n",
    "#----------- ap_int<7,2> -------------------------------\n",
    "#---------------------------------------------------------\n",
    "\n",
    "# last pixel              first pixel\n",
    "#[0  1  0  0  0  0 | ... | 0  0  0  1  0  0]\n",
    "# s  4  3  2  1  0         s  4  3  2  1  0 \n",
    "#    2  2  2  2  2            2  2  2  2  2  \n",
    "        \n",
    "with open('TESTimg_downto_apint6.txt', 'w') as f:\n",
    "    for index , num in enumerate(num_list):\n",
    "        f.write(str(index)+ ': ')\n",
    "        for i in np.flip(X_test_flat_zoom_int[num]):\n",
    "            f.write('{:06d}'.format(int((bin(i)[2:]))))\n",
    "        f.write('\\n\\n')"
   ]
  },
  {
   "cell_type": "markdown",
   "metadata": {},
   "source": [
    "Info dettagliate delle inferenze sulle immagini test inserite nella FPGA. \n",
    "Confronto fra modello completo e prunato."
   ]
  },
  {
   "cell_type": "code",
   "execution_count": 97,
   "metadata": {},
   "outputs": [
    {
     "name": "stdout",
     "output_type": "stream",
     "text": [
      "predizioni del modello NON PRUNATO sulle immagini di test scelte\n",
      "\n",
      "\n",
      "\n"
     ]
    },
    {
     "ename": "ValueError",
     "evalue": "Error when checking input: expected dense_9_input to have shape (64,) but got array with shape (1,)",
     "output_type": "error",
     "traceback": [
      "\u001b[1;31m---------------------------------------------------------------------------\u001b[0m",
      "\u001b[1;31mValueError\u001b[0m                                Traceback (most recent call last)",
      "\u001b[1;32m<ipython-input-97-f6a3c7be0bdc>\u001b[0m in \u001b[0;36m<module>\u001b[1;34m\u001b[0m\n\u001b[0;32m      1\u001b[0m \u001b[0mprint\u001b[0m\u001b[1;33m(\u001b[0m\u001b[1;34m'predizioni del modello NON PRUNATO sulle immagini di test scelte\\n\\n\\n'\u001b[0m\u001b[1;33m)\u001b[0m\u001b[1;33m\u001b[0m\u001b[1;33m\u001b[0m\u001b[0m\n\u001b[0;32m      2\u001b[0m \u001b[1;32mfor\u001b[0m \u001b[0mi\u001b[0m\u001b[1;33m,\u001b[0m\u001b[0mindex\u001b[0m \u001b[1;32min\u001b[0m \u001b[0menumerate\u001b[0m\u001b[1;33m(\u001b[0m\u001b[0mnum_list\u001b[0m\u001b[1;33m)\u001b[0m\u001b[1;33m:\u001b[0m\u001b[1;33m\u001b[0m\u001b[1;33m\u001b[0m\u001b[0m\n\u001b[1;32m----> 3\u001b[1;33m     \u001b[0mprint\u001b[0m\u001b[1;33m(\u001b[0m\u001b[1;34m'number in image: '\u001b[0m\u001b[1;33m,\u001b[0m \u001b[0mi\u001b[0m\u001b[1;33m,\u001b[0m\u001b[1;34m'\\nPrediction: '\u001b[0m\u001b[1;33m,\u001b[0m\u001b[0mmodel_flat_zoom\u001b[0m\u001b[1;33m.\u001b[0m\u001b[0mpredict\u001b[0m\u001b[1;33m(\u001b[0m\u001b[0mX_test_flat_zoom\u001b[0m\u001b[1;33m[\u001b[0m\u001b[0mindex\u001b[0m\u001b[1;33m]\u001b[0m\u001b[1;33m)\u001b[0m\u001b[1;33m)\u001b[0m\u001b[1;33m\u001b[0m\u001b[1;33m\u001b[0m\u001b[0m\n\u001b[0m\u001b[0;32m      4\u001b[0m     \u001b[0mprint\u001b[0m\u001b[1;33m(\u001b[0m\u001b[1;34m'\\n'\u001b[0m\u001b[1;33m)\u001b[0m\u001b[1;33m\u001b[0m\u001b[1;33m\u001b[0m\u001b[0m\n\u001b[0;32m      5\u001b[0m \u001b[1;33m\u001b[0m\u001b[0m\n",
      "\u001b[1;32m~\\Anaconda3\\lib\\site-packages\\tensorflow\\python\\keras\\engine\\training.py\u001b[0m in \u001b[0;36mpredict\u001b[1;34m(self, x, batch_size, verbose, steps, callbacks, max_queue_size, workers, use_multiprocessing)\u001b[0m\n\u001b[0;32m   1058\u001b[0m     \u001b[1;31m# generate symbolic tensors).\u001b[0m\u001b[1;33m\u001b[0m\u001b[1;33m\u001b[0m\u001b[1;33m\u001b[0m\u001b[0m\n\u001b[0;32m   1059\u001b[0m     x, _, _ = self._standardize_user_data(\n\u001b[1;32m-> 1060\u001b[1;33m         x, check_steps=True, steps_name='steps', steps=steps)\n\u001b[0m\u001b[0;32m   1061\u001b[0m \u001b[1;33m\u001b[0m\u001b[0m\n\u001b[0;32m   1062\u001b[0m     \u001b[1;32mif\u001b[0m \u001b[0mself\u001b[0m\u001b[1;33m.\u001b[0m\u001b[0mrun_eagerly\u001b[0m\u001b[1;33m:\u001b[0m\u001b[1;33m\u001b[0m\u001b[1;33m\u001b[0m\u001b[0m\n",
      "\u001b[1;32m~\\Anaconda3\\lib\\site-packages\\tensorflow\\python\\keras\\engine\\training.py\u001b[0m in \u001b[0;36m_standardize_user_data\u001b[1;34m(self, x, y, sample_weight, class_weight, batch_size, check_steps, steps_name, steps, validation_split, shuffle, extract_tensors_from_dataset)\u001b[0m\n\u001b[0;32m   2649\u001b[0m           \u001b[0mfeed_input_shapes\u001b[0m\u001b[1;33m,\u001b[0m\u001b[1;33m\u001b[0m\u001b[1;33m\u001b[0m\u001b[0m\n\u001b[0;32m   2650\u001b[0m           \u001b[0mcheck_batch_axis\u001b[0m\u001b[1;33m=\u001b[0m\u001b[1;32mFalse\u001b[0m\u001b[1;33m,\u001b[0m  \u001b[1;31m# Don't enforce the batch size.\u001b[0m\u001b[1;33m\u001b[0m\u001b[1;33m\u001b[0m\u001b[0m\n\u001b[1;32m-> 2651\u001b[1;33m           exception_prefix='input')\n\u001b[0m\u001b[0;32m   2652\u001b[0m \u001b[1;33m\u001b[0m\u001b[0m\n\u001b[0;32m   2653\u001b[0m     \u001b[1;32mif\u001b[0m \u001b[0my\u001b[0m \u001b[1;32mis\u001b[0m \u001b[1;32mnot\u001b[0m \u001b[1;32mNone\u001b[0m\u001b[1;33m:\u001b[0m\u001b[1;33m\u001b[0m\u001b[1;33m\u001b[0m\u001b[0m\n",
      "\u001b[1;32m~\\Anaconda3\\lib\\site-packages\\tensorflow\\python\\keras\\engine\\training_utils.py\u001b[0m in \u001b[0;36mstandardize_input_data\u001b[1;34m(data, names, shapes, check_batch_axis, exception_prefix)\u001b[0m\n\u001b[0;32m    383\u001b[0m                              \u001b[1;34m': expected '\u001b[0m \u001b[1;33m+\u001b[0m \u001b[0mnames\u001b[0m\u001b[1;33m[\u001b[0m\u001b[0mi\u001b[0m\u001b[1;33m]\u001b[0m \u001b[1;33m+\u001b[0m \u001b[1;34m' to have shape '\u001b[0m \u001b[1;33m+\u001b[0m\u001b[1;33m\u001b[0m\u001b[1;33m\u001b[0m\u001b[0m\n\u001b[0;32m    384\u001b[0m                              \u001b[0mstr\u001b[0m\u001b[1;33m(\u001b[0m\u001b[0mshape\u001b[0m\u001b[1;33m)\u001b[0m \u001b[1;33m+\u001b[0m \u001b[1;34m' but got array with shape '\u001b[0m \u001b[1;33m+\u001b[0m\u001b[1;33m\u001b[0m\u001b[1;33m\u001b[0m\u001b[0m\n\u001b[1;32m--> 385\u001b[1;33m                              str(data_shape))\n\u001b[0m\u001b[0;32m    386\u001b[0m   \u001b[1;32mreturn\u001b[0m \u001b[0mdata\u001b[0m\u001b[1;33m\u001b[0m\u001b[1;33m\u001b[0m\u001b[0m\n\u001b[0;32m    387\u001b[0m \u001b[1;33m\u001b[0m\u001b[0m\n",
      "\u001b[1;31mValueError\u001b[0m: Error when checking input: expected dense_9_input to have shape (64,) but got array with shape (1,)"
     ]
    }
   ],
   "source": [
    "print('predizioni del modello NON PRUNATO sulle immagini di test scelte\\n\\n\\n')\n",
    "for i,index in enumerate(num_list):\n",
    "    print('number in image: ', i,'\\nPrediction: ',model_flat_zoom.predict(X_test_flat_zoom_int[index].reshape(1,-1)))\n",
    "    print('\\n')\n",
    "\n",
    "print('predizioni del modello PRUNATO sulle immagini di test scelte\\n\\n\\n')\n",
    "for i,index in enumerate(num_list):\n",
    "    print('number in image: ', i,'\\nPrediction: ',model_flat_zoom_pruned.predict(X_test_flat_zoom_int[index].reshape(1,-1)))\n",
    "    print('\\n')"
   ]
  },
  {
   "cell_type": "markdown",
   "metadata": {},
   "source": [
    "Funzioni utili per la scrittura del codice vhdl di input.\n",
    "\n",
    "Particolarmente verboso e quindi utile generarlo automaticamente"
   ]
  },
  {
   "cell_type": "code",
   "execution_count": 13,
   "metadata": {},
   "outputs": [],
   "source": [
    "#lista contenente gli indici delle immagini campione nel Test Set del MNIST\n",
    "#num_list[0] contiene l'indice dell'immagine di uno zero, num_list[1] di un uno e così via\n",
    "\n",
    "n_image_test = 100\n",
    "\n",
    "#           0  1  2  3  4  5  6  7  8  9          \n",
    "num_list = [3, 2, 1, 32,4, 15,21,0, 61,12] + [x for x in range(62,62 + n_image_test - 10)]\n",
    "\n",
    "\n",
    "#---------------------------------------------------------\n",
    "#--FORMAT OF INPUT IMAGES FOR NN IN FPGA------------------\n",
    "#----------- ap_fixed<7,2> -------------------------------\n",
    "#---------------------------------------------------------\n",
    "\n",
    "# last pixel                 first pixel\n",
    "#[0  0  1  0  0  0  0 | ... | 0  0  0  1  0  0  0]\n",
    "# s  0 -1 -2 -3 -4 -5         s  0 -1 -2 -3 -4 -5 \n",
    "#    2  2  2  2  2  2            2  2  2  2  2  2\n",
    "\n",
    "'''\n",
    "with open('TESTimg_downto_apfixed7_2.txt', 'w') as f:\n",
    "    for index , num in enumerate(num_list):\n",
    "        f.write(str(index)+ ': ')\n",
    "        for i in np.flip(X_test_flat_zoom_int[num]):\n",
    "            f.write('{:07d}'.format(int((bin(i)[2:]))))\n",
    "        f.write('\\n\\n')\n",
    "'''\n",
    "        \n",
    "#---------------------------------------------------------\n",
    "#--FORMAT OF INPUT IMAGES FOR NN IN FPGA------------------\n",
    "#----------- ap_int<7,2> -------------------------------\n",
    "#---------------------------------------------------------\n",
    "\n",
    "# last pixel              first pixel\n",
    "#[0  1  0  0  0  0 | ... | 0  0  0  1  0  0]\n",
    "# s  4  3  2  1  0         s  4  3  2  1  0 \n",
    "#    2  2  2  2  2            2  2  2  2  2  \n",
    "\n",
    "with open('TESTimg_downto_apint6_100imgs.txt', 'w') as f:\n",
    "    for index , num in enumerate(num_list):\n",
    "        f.write('signal address_' + str(index) + ' : std_logic_vector((size-1) downto 0) := \\\"')\n",
    "        for i in np.flip(X_test_flat_zoom_int[num]):\n",
    "            f.write('{:06d}'.format(int((bin(i)[2:]))))\n",
    "        f.write('\\\";\\n')\n",
    "        \n",
    "\n",
    "#salvataggio dei true label associati alle immagini inserite nella FPGA\n",
    "with open('TESTlabels_downto_apint6_100imgs.txt', 'w') as f:\n",
    "    for index , num in enumerate(num_list):\n",
    "        f.write('signal label_' + str(index) + ' : std_logic_vector(3 downto 0) := \\\"')\n",
    "        f.write('{:04d}'.format(int((bin(y_test_int[num])[2:]))))\n",
    "        f.write('\\\";\\n')"
   ]
  },
  {
   "cell_type": "code",
   "execution_count": 1,
   "metadata": {},
   "outputs": [
    {
     "ename": "NameError",
     "evalue": "name 'n_image_test' is not defined",
     "output_type": "error",
     "traceback": [
      "\u001b[1;31m---------------------------------------------------------------------------\u001b[0m",
      "\u001b[1;31mNameError\u001b[0m                                 Traceback (most recent call last)",
      "\u001b[1;32m<ipython-input-1-96e59c068904>\u001b[0m in \u001b[0;36m<module>\u001b[1;34m\u001b[0m\n\u001b[0;32m      1\u001b[0m \u001b[1;32mwith\u001b[0m \u001b[0mopen\u001b[0m\u001b[1;33m(\u001b[0m\u001b[1;34m'vhdl_code_1.txt'\u001b[0m\u001b[1;33m,\u001b[0m \u001b[1;34m'w'\u001b[0m\u001b[1;33m)\u001b[0m \u001b[1;32mas\u001b[0m \u001b[0mf\u001b[0m\u001b[1;33m:\u001b[0m\u001b[1;33m\u001b[0m\u001b[1;33m\u001b[0m\u001b[0m\n\u001b[0;32m      2\u001b[0m     \u001b[0mf\u001b[0m\u001b[1;33m.\u001b[0m\u001b[0mwrite\u001b[0m\u001b[1;33m(\u001b[0m\u001b[1;34m'flat_image <= '\u001b[0m\u001b[1;33m)\u001b[0m\u001b[1;33m\u001b[0m\u001b[1;33m\u001b[0m\u001b[0m\n\u001b[1;32m----> 3\u001b[1;33m     \u001b[1;32mfor\u001b[0m \u001b[0mi\u001b[0m \u001b[1;32min\u001b[0m \u001b[0mrange\u001b[0m\u001b[1;33m(\u001b[0m\u001b[0mn_image_test\u001b[0m\u001b[1;33m)\u001b[0m\u001b[1;33m:\u001b[0m\u001b[1;33m\u001b[0m\u001b[1;33m\u001b[0m\u001b[0m\n\u001b[0m\u001b[0;32m      4\u001b[0m         \u001b[0mf\u001b[0m\u001b[1;33m.\u001b[0m\u001b[0mwrite\u001b[0m\u001b[1;33m(\u001b[0m\u001b[1;34m'address_'\u001b[0m \u001b[1;33m+\u001b[0m \u001b[0mstr\u001b[0m\u001b[1;33m(\u001b[0m\u001b[0mi\u001b[0m\u001b[1;33m)\u001b[0m \u001b[1;33m+\u001b[0m \u001b[1;34m' when (address = '\u001b[0m \u001b[1;33m+\u001b[0m \u001b[0mstr\u001b[0m\u001b[1;33m(\u001b[0m\u001b[0mi\u001b[0m\u001b[1;33m)\u001b[0m \u001b[1;33m+\u001b[0m \u001b[1;34m') else\\n'\u001b[0m\u001b[1;33m)\u001b[0m\u001b[1;33m\u001b[0m\u001b[1;33m\u001b[0m\u001b[0m\n\u001b[0;32m      5\u001b[0m     \u001b[0mf\u001b[0m\u001b[1;33m.\u001b[0m\u001b[0mwrite\u001b[0m\u001b[1;33m(\u001b[0m\u001b[1;34m'(others => \\'0\\');'\u001b[0m\u001b[1;33m)\u001b[0m\u001b[1;33m\u001b[0m\u001b[1;33m\u001b[0m\u001b[0m\n",
      "\u001b[1;31mNameError\u001b[0m: name 'n_image_test' is not defined"
     ]
    }
   ],
   "source": [
    "#generazione di codice vhdl utile per il core di generazione di input nella FPGA\n",
    "\n",
    "with open('vhdl_code_1.txt', 'w') as f:\n",
    "    f.write('flat_image <= ')\n",
    "    for i in range(n_image_test):\n",
    "        f.write('address_' + str(i) + ' when (address = ' + str(i) + ') else\\n')\n",
    "    f.write('(others => \\'0\\');')\n",
    "    \n",
    "with open('vhdl_code_2.txt', 'w') as f:\n",
    "    f.write('true_label <= ')\n",
    "    for i in range(n_image_test):\n",
    "        f.write('label_' + str(i) + ' when (address = ' + str(i) + ') else\\n')\n",
    "    f.write('(others => \\'0\\');')"
   ]
  },
  {
   "cell_type": "markdown",
   "metadata": {},
   "source": [
    "Se si ha già il modello esportato e lo si vuole caricare per fare alcuni test."
   ]
  },
  {
   "cell_type": "code",
   "execution_count": 1,
   "metadata": {},
   "outputs": [
    {
     "name": "stdout",
     "output_type": "stream",
     "text": [
      "WARNING:tensorflow:From C:\\Users\\Giordano\\Anaconda3\\lib\\site-packages\\tensorflow\\python\\ops\\init_ops.py:97: calling GlorotUniform.__init__ (from tensorflow.python.ops.init_ops) with dtype is deprecated and will be removed in a future version.\n",
      "Instructions for updating:\n",
      "Call initializer instance with the dtype argument instead of passing it to the constructor\n",
      "WARNING:tensorflow:From C:\\Users\\Giordano\\Anaconda3\\lib\\site-packages\\tensorflow\\python\\ops\\init_ops.py:1251: calling VarianceScaling.__init__ (from tensorflow.python.ops.init_ops) with dtype is deprecated and will be removed in a future version.\n",
      "Instructions for updating:\n",
      "Call initializer instance with the dtype argument instead of passing it to the constructor\n",
      "WARNING:tensorflow:From C:\\Users\\Giordano\\Anaconda3\\lib\\site-packages\\tensorflow\\python\\ops\\init_ops.py:97: calling Zeros.__init__ (from tensorflow.python.ops.init_ops) with dtype is deprecated and will be removed in a future version.\n",
      "Instructions for updating:\n",
      "Call initializer instance with the dtype argument instead of passing it to the constructor\n"
     ]
    }
   ],
   "source": [
    "from tensorflow.keras.models import load_model\n",
    "\n",
    "load_model = load_model('complete_model_MNIST_flat8_5bit_pruned.h5')"
   ]
  },
  {
   "cell_type": "code",
   "execution_count": 26,
   "metadata": {},
   "outputs": [
    {
     "data": {
      "text/plain": [
       "[0.34578407, 0.97]"
      ]
     },
     "execution_count": 26,
     "metadata": {},
     "output_type": "execute_result"
    }
   ],
   "source": [
    "#accuratezza del modello sulle immagini inserite nella FPGA\n",
    "\n",
    "load_model.test_on_batch(x=X_test_flat_zoom_int[num_list], y=y_test[num_list])"
   ]
  },
  {
   "cell_type": "code",
   "execution_count": 11,
   "metadata": {},
   "outputs": [
    {
     "name": "stdout",
     "output_type": "stream",
     "text": [
      "--- 0.0019826889038085938 seconds ---\n"
     ]
    }
   ],
   "source": [
    "#Calcolo della latenza o tempo di inferenza sulla propria CPU, utilizzando le routine di Keras\n",
    "\n",
    "import time\n",
    "\n",
    "image  = X_test_flat_zoom_int[0].reshape(1,-1)\n",
    "start_time = time.time()\n",
    "\n",
    "load_model.predict(image)\n",
    "\n",
    "print(\"--- %s seconds ---\" % (time.time() - start_time))"
   ]
  }
 ],
 "metadata": {
  "kernelspec": {
   "display_name": "Python 3",
   "language": "python",
   "name": "python3"
  },
  "language_info": {
   "codemirror_mode": {
    "name": "ipython",
    "version": 3
   },
   "file_extension": ".py",
   "mimetype": "text/x-python",
   "name": "python",
   "nbconvert_exporter": "python",
   "pygments_lexer": "ipython3",
   "version": "3.8.8"
  }
 },
 "nbformat": 4,
 "nbformat_minor": 2
}
