{
 "cells": [
  {
   "cell_type": "code",
   "execution_count": 11,
   "metadata": {},
   "outputs": [
    {
     "name": "stdout",
     "output_type": "stream",
     "text": [
      "WARNING:tensorflow:No training configuration found in the save file, so the model was *not* compiled. Compile it manually.\n",
      "WARNING:tensorflow:No training configuration found in the save file, so the model was *not* compiled. Compile it manually.\n",
      "WARNING:tensorflow:No training configuration found in the save file, so the model was *not* compiled. Compile it manually.\n",
      "WARNING:tensorflow:No training configuration found in the save file, so the model was *not* compiled. Compile it manually.\n"
     ]
    }
   ],
   "source": [
    "from tensorflow.keras.models import load_model\n",
    "###### AE MODEL LOAD ######\n",
    "ae_wo_classifier = load_model('model/AE_model/KERAS_check_best_model.h5')\n",
    "ae_wo_classifier_pruned = load_model('model/AE_model/KERAS_check_pruned_best_model.h5')\n",
    "ae_w_classifier = load_model('model/AE_model/KERAS_check_best_model_classifier.h5')\n",
    "ae_w_classifier_pruned = load_model('model/AE_model/KERAS_check_pruned_best_model_classifier.h5')"
   ]
  },
  {
   "cell_type": "code",
   "execution_count": 13,
   "metadata": {},
   "outputs": [
    {
     "name": "stdout",
     "output_type": "stream",
     "text": [
      "WARNING:tensorflow:No training configuration found in the save file, so the model was *not* compiled. Compile it manually.\n"
     ]
    },
    {
     "name": "stderr",
     "output_type": "stream",
     "text": [
      "WARNING:tensorflow:No training configuration found in the save file, so the model was *not* compiled. Compile it manually.\n"
     ]
    },
    {
     "name": "stdout",
     "output_type": "stream",
     "text": [
      "WARNING:tensorflow:No training configuration found in the save file, so the model was *not* compiled. Compile it manually.\n"
     ]
    },
    {
     "name": "stderr",
     "output_type": "stream",
     "text": [
      "WARNING:tensorflow:No training configuration found in the save file, so the model was *not* compiled. Compile it manually.\n"
     ]
    },
    {
     "name": "stdout",
     "output_type": "stream",
     "text": [
      "WARNING:tensorflow:No training configuration found in the save file, so the model was *not* compiled. Compile it manually.\n"
     ]
    },
    {
     "name": "stderr",
     "output_type": "stream",
     "text": [
      "WARNING:tensorflow:No training configuration found in the save file, so the model was *not* compiled. Compile it manually.\n"
     ]
    },
    {
     "name": "stdout",
     "output_type": "stream",
     "text": [
      "WARNING:tensorflow:No training configuration found in the save file, so the model was *not* compiled. Compile it manually.\n"
     ]
    },
    {
     "name": "stderr",
     "output_type": "stream",
     "text": [
      "WARNING:tensorflow:No training configuration found in the save file, so the model was *not* compiled. Compile it manually.\n"
     ]
    }
   ],
   "source": [
    "from tensorflow.keras.models import load_model\n",
    "from qkeras.utils import _add_supported_quantized_objects\n",
    "co = {}\n",
    "_add_supported_quantized_objects(co)\n",
    "\n",
    "qae_wo_classifier = load_model('model/QAE_model/KERAS_check_best_model.h5', custom_objects=co)\n",
    "qae_wo_classifier_pruned = load_model('model/QAE_model/KERAS_check_pruned_best_model.h5', custom_objects=co)\n",
    "qae_w_classifier = load_model('model/QAE_model/KERAS_check_best_model_classifier.h5', custom_objects=co)\n",
    "qae_w_classifier_pruned = load_model('model/QAE_model/KERAS_check_pruned_best_model_classifier.h5', custom_objects=co)"
   ]
  },
  {
   "cell_type": "markdown",
   "metadata": {},
   "source": [
    "## Check sparsity\n",
    "Make a quick check that the model was indeed trained sparse. We'll just make a histogram of the weights of the 1st layer, and hopefully observe a large peak in the bin containing '0'. Note logarithmic y axis."
   ]
  },
  {
   "cell_type": "code",
   "execution_count": 39,
   "metadata": {},
   "outputs": [
    {
     "name": "stdout",
     "output_type": "stream",
     "text": [
      "32\n"
     ]
    }
   ],
   "source": [
    "w = qae_w_classifier_pruned.layers[6].weights[0].numpy()\n",
    "print(w.size)"
   ]
  },
  {
   "cell_type": "code",
   "execution_count": 16,
   "metadata": {},
   "outputs": [
    {
     "name": "stdout",
     "output_type": "stream",
     "text": [
      "0\n"
     ]
    }
   ],
   "source": [
    "w=ae_w_classifier_pruned.layers[9].weights[0].numpy()\n",
    "\n",
    "print(np.sum(w==0))"
   ]
  },
  {
   "cell_type": "code",
   "execution_count": 29,
   "metadata": {},
   "outputs": [
    {
     "ename": "IndexError",
     "evalue": "list index out of range",
     "output_type": "error",
     "traceback": [
      "\u001b[1;31m---------------------------------------------------------------------------\u001b[0m",
      "\u001b[1;31mIndexError\u001b[0m                                Traceback (most recent call last)",
      "\u001b[1;32m<ipython-input-29-0a07c153ba91>\u001b[0m in \u001b[0;36m<module>\u001b[1;34m\u001b[0m\n\u001b[0;32m      9\u001b[0m \u001b[1;33m\u001b[0m\u001b[0m\n\u001b[0;32m     10\u001b[0m \u001b[1;32mfor\u001b[0m \u001b[0mi\u001b[0m \u001b[1;32min\u001b[0m \u001b[0mrange\u001b[0m\u001b[1;33m(\u001b[0m\u001b[1;36m1\u001b[0m\u001b[1;33m,\u001b[0m \u001b[0mcolumns\u001b[0m\u001b[1;33m*\u001b[0m\u001b[0mrows\u001b[0m \u001b[1;33m+\u001b[0m\u001b[1;36m1\u001b[0m\u001b[1;33m)\u001b[0m\u001b[1;33m:\u001b[0m\u001b[1;33m\u001b[0m\u001b[1;33m\u001b[0m\u001b[0m\n\u001b[1;32m---> 11\u001b[1;33m     \u001b[0mw\u001b[0m \u001b[1;33m=\u001b[0m \u001b[0mqae_w_classifier_pruned\u001b[0m\u001b[1;33m.\u001b[0m\u001b[0mlayers\u001b[0m\u001b[1;33m[\u001b[0m\u001b[0mi\u001b[0m\u001b[1;33m]\u001b[0m\u001b[1;33m.\u001b[0m\u001b[0mweights\u001b[0m\u001b[1;33m[\u001b[0m\u001b[1;36m0\u001b[0m\u001b[1;33m]\u001b[0m\u001b[1;33m.\u001b[0m\u001b[0mnumpy\u001b[0m\u001b[1;33m(\u001b[0m\u001b[1;33m)\u001b[0m\u001b[1;33m\u001b[0m\u001b[1;33m\u001b[0m\u001b[0m\n\u001b[0m\u001b[0;32m     12\u001b[0m     \u001b[0mh\u001b[0m\u001b[1;33m,\u001b[0m \u001b[0mb\u001b[0m \u001b[1;33m=\u001b[0m \u001b[0mnp\u001b[0m\u001b[1;33m.\u001b[0m\u001b[0mhistogram\u001b[0m\u001b[1;33m(\u001b[0m\u001b[0mw\u001b[0m\u001b[1;33m,\u001b[0m \u001b[0mbins\u001b[0m\u001b[1;33m=\u001b[0m\u001b[1;36m100\u001b[0m\u001b[1;33m)\u001b[0m\u001b[1;33m\u001b[0m\u001b[1;33m\u001b[0m\u001b[0m\n\u001b[0;32m     13\u001b[0m \u001b[1;33m\u001b[0m\u001b[0m\n",
      "\u001b[1;31mIndexError\u001b[0m: list index out of range"
     ]
    },
    {
     "data": {
      "image/png": "[encoded data removed]",
      "text/plain": [
       "<Figure size 648x648 with 2 Axes>"
      ]
     },
     "metadata": {
      "needs_background": "light"
     },
     "output_type": "display_data"
    }
   ],
   "source": [
    "import numpy as np\n",
    "import matplotlib.pyplot as plt\n",
    "\n",
    "w = 10\n",
    "h = 10\n",
    "fig = plt.figure(figsize=(9, 9))\n",
    "columns = 3\n",
    "rows = 3\n",
    "\n",
    "for i in range(1, columns*rows +1):  \n",
    "    w = qae_w_classifier_pruned.layers[i].weights[0].numpy()\n",
    "    h, b = np.histogram(w, bins=100)\n",
    "\n",
    "    plt.bar(b[:-1], h, width=b[1]-b[0])\n",
    "    plt.semilogy()\n",
    "    fig.add_subplot(rows, columns, i)\n",
    "    #img =[h,b]\n",
    "    #plt.imshow(img)\n",
    "plt.show()\n",
    "\n",
    "\"\"\"\n",
    "for i in range(1, columns*rows +1):\n",
    "    img = np.random.randint(10, size=(h,w))\n",
    "    fig.add_subplot(rows, columns, i)\n",
    "    plt.imshow(img)\n",
    "plt.show()\"\"\""
   ]
  },
  {
   "cell_type": "code",
   "execution_count": 30,
   "metadata": {},
   "outputs": [
    {
     "name": "stdout",
     "output_type": "stream",
     "text": [
      "% of zeros = 0.0\n"
     ]
    },
    {
     "ename": "IndexError",
     "evalue": "list index out of range",
     "output_type": "error",
     "traceback": [
      "\u001b[1;31m---------------------------------------------------------------------------\u001b[0m",
      "\u001b[1;31mIndexError\u001b[0m                                Traceback (most recent call last)",
      "\u001b[1;32m<ipython-input-30-7bf23ef215ae>\u001b[0m in \u001b[0;36m<module>\u001b[1;34m\u001b[0m\n\u001b[0;32m      6\u001b[0m \u001b[1;33m\u001b[0m\u001b[0m\n\u001b[0;32m      7\u001b[0m \u001b[1;32mfor\u001b[0m \u001b[0mi\u001b[0m \u001b[1;32min\u001b[0m \u001b[0mrange\u001b[0m\u001b[1;33m(\u001b[0m\u001b[1;36m9\u001b[0m\u001b[1;33m)\u001b[0m\u001b[1;33m:\u001b[0m\u001b[1;33m\u001b[0m\u001b[1;33m\u001b[0m\u001b[0m\n\u001b[1;32m----> 8\u001b[1;33m     \u001b[0mw\u001b[0m \u001b[1;33m=\u001b[0m \u001b[0mqae_w_classifier_pruned\u001b[0m\u001b[1;33m.\u001b[0m\u001b[0mlayers\u001b[0m\u001b[1;33m[\u001b[0m\u001b[0mi\u001b[0m\u001b[1;33m+\u001b[0m\u001b[1;36m1\u001b[0m\u001b[1;33m]\u001b[0m\u001b[1;33m.\u001b[0m\u001b[0mweights\u001b[0m\u001b[1;33m[\u001b[0m\u001b[1;36m0\u001b[0m\u001b[1;33m]\u001b[0m\u001b[1;33m.\u001b[0m\u001b[0mnumpy\u001b[0m\u001b[1;33m(\u001b[0m\u001b[1;33m)\u001b[0m\u001b[1;33m\u001b[0m\u001b[1;33m\u001b[0m\u001b[0m\n\u001b[0m\u001b[0;32m      9\u001b[0m     \u001b[0mh\u001b[0m\u001b[1;33m,\u001b[0m \u001b[0mb\u001b[0m \u001b[1;33m=\u001b[0m \u001b[0mnp\u001b[0m\u001b[1;33m.\u001b[0m\u001b[0mhistogram\u001b[0m\u001b[1;33m(\u001b[0m\u001b[0mw\u001b[0m\u001b[1;33m,\u001b[0m \u001b[0mbins\u001b[0m\u001b[1;33m=\u001b[0m\u001b[1;36m100\u001b[0m\u001b[1;33m)\u001b[0m\u001b[1;33m\u001b[0m\u001b[1;33m\u001b[0m\u001b[0m\n\u001b[0;32m     10\u001b[0m \u001b[1;33m\u001b[0m\u001b[0m\n",
      "\u001b[1;31mIndexError\u001b[0m: list index out of range"
     ]
    },
    {
     "data": {
      "text/plain": [
       "<Figure size 720x216 with 0 Axes>"
      ]
     },
     "metadata": {},
     "output_type": "display_data"
    },
    {
     "data": {
      "image/png": "[encoded data removed]",
      "text/plain": [
       "<Figure size 216x216 with 1 Axes>"
      ]
     },
     "metadata": {
      "needs_background": "light"
     },
     "output_type": "display_data"
    }
   ],
   "source": [
    "import numpy as np\n",
    "from matplotlib import pyplot as plt\n",
    "n = 9\n",
    "plt.figure(figsize=(10,3))\n",
    "\n",
    "\n",
    "for i in range(9):  \n",
    "    w = qae_w_classifier_pruned.layers[i+1].weights[0].numpy()\n",
    "    h, b = np.histogram(w, bins=100)\n",
    "\n",
    "    plt.figure(figsize=(3,3))\n",
    "    plt.bar(b[:-1], h, width=b[1]-b[0])\n",
    "    plt.semilogy()\n",
    "    plt.title('Weights distribution layer '+ str(i+1))\n",
    "    print('% of zeros = {}'.format(np.sum(w==0)/np.size(w)))\n",
    "    #plt.savefig('./Report/images/section4/weights/weights_dist'+str(i+1)+'.png')\n",
    "plt.show()"
   ]
  },
  {
   "cell_type": "markdown",
   "metadata": {},
   "source": [
    "# Make an hls4ml config & model"
   ]
  },
  {
   "cell_type": "code",
   "execution_count": 21,
   "metadata": {},
   "outputs": [
    {
     "name": "stdout",
     "output_type": "stream",
     "text": [
      "Interpreting Model\n",
      "Topology:\n",
      "Layer name: encoder_input, layer type: Input\n",
      "Layer name: fc1, layer type: QDense\n",
      "Layer name: relu1, layer type: QActivation\n",
      "Layer name: fc2_prun, layer type: QDense\n",
      "Layer name: relu2, layer type: QActivation\n",
      "Layer name: encoder_output, layer type: Dense\n",
      "  -> Activation (relu), layer name: encoder_output\n",
      "Layer name: fc3, layer type: QDense\n",
      "Layer name: fc4_prunedclass, layer type: QDense\n",
      "Layer name: relu3, layer type: QActivation\n",
      "Layer name: prunclass_relu4, layer type: QActivation\n",
      "Layer name: fc4, layer type: QDense\n",
      "Layer name: fc5_class, layer type: QDense\n",
      "Layer name: relu4, layer type: QActivation\n",
      "Layer name: class_relu5, layer type: QActivation\n",
      "Layer name: decoder_output, layer type: QDense\n",
      "Layer name: classifier_out, layer type: QDense\n",
      "Layer name: sigmoid, layer type: Activation\n",
      "Layer name: classifier_output, layer type: Activation\n",
      "-----------------------------------\n",
      "Model\n",
      "  Precision:         ap_fixed<16,6>\n",
      "  ReuseFactor:       1\n",
      "  Strategy:          Latency\n",
      "LayerName\n",
      "  encoder_input\n",
      "    Precision\n",
      "      result:        ap_fixed<16,6>\n",
      "  fc1\n",
      "    Precision\n",
      "      weight:        ap_fixed<4,1>\n",
      "      bias:          ap_fixed<4,1>\n",
      "    ReuseFactor:     1\n",
      "  relu1\n",
      "    Precision\n",
      "      result:        ap_ufixed<4,0>\n",
      "    ReuseFactor:     1\n",
      "  fc2_prun\n",
      "    Precision\n",
      "      weight:        ap_fixed<4,1>\n",
      "      bias:          ap_fixed<4,1>\n",
      "    ReuseFactor:     1\n",
      "  relu2\n",
      "    Precision\n",
      "      result:        ap_ufixed<4,0>\n",
      "    ReuseFactor:     1\n",
      "  encoder_output\n",
      "    Precision\n",
      "      weight:        ap_fixed<16,6>\n",
      "      bias:          ap_fixed<16,6>\n",
      "      result:        ap_fixed<16,6>\n",
      "    ReuseFactor:     1\n",
      "  encoder_output_relu\n",
      "    Precision:       ap_fixed<16,6>\n",
      "    ReuseFactor:     1\n",
      "    table_size:      1024\n",
      "    table_t:         ap_fixed<18,8>\n",
      "  fc3\n",
      "    Precision\n",
      "      weight:        ap_fixed<5,1>\n",
      "      bias:          ap_fixed<5,1>\n",
      "    ReuseFactor:     1\n",
      "  fc4_prunedclass\n",
      "    Precision\n",
      "      weight:        ap_fixed<5,1>\n",
      "      bias:          ap_fixed<5,1>\n",
      "    ReuseFactor:     1\n",
      "  relu3\n",
      "    Precision\n",
      "      result:        ap_ufixed<5,0>\n",
      "    ReuseFactor:     1\n",
      "  prunclass_relu4\n",
      "    Precision\n",
      "      result:        ap_ufixed<5,0>\n",
      "    ReuseFactor:     1\n",
      "  fc4\n",
      "    Precision\n",
      "      weight:        ap_fixed<5,1>\n",
      "      bias:          ap_fixed<5,1>\n",
      "    ReuseFactor:     1\n",
      "  fc5_class\n",
      "    Precision\n",
      "      weight:        ap_fixed<5,1>\n",
      "      bias:          ap_fixed<5,1>\n",
      "    ReuseFactor:     1\n",
      "  relu4\n",
      "    Precision\n",
      "      result:        ap_ufixed<5,0>\n",
      "    ReuseFactor:     1\n",
      "  class_relu5\n",
      "    Precision\n",
      "      result:        ap_ufixed<5,0>\n",
      "    ReuseFactor:     1\n",
      "  decoder_output\n",
      "    Precision\n",
      "      weight:        ap_fixed<5,1>\n",
      "      bias:          ap_fixed<5,1>\n",
      "    ReuseFactor:     1\n",
      "  classifier_out\n",
      "    Precision\n",
      "      weight:        ap_fixed<16,7>\n",
      "      bias:          ap_fixed<16,7>\n",
      "    ReuseFactor:     1\n",
      "  sigmoid\n",
      "    Precision:       ap_fixed<16,6>\n",
      "    ReuseFactor:     1\n",
      "    table_size:      1024\n",
      "    table_t:         ap_fixed<18,8>\n",
      "  classifier_output\n",
      "    Precision:       ap_fixed<16,6>\n",
      "    ReuseFactor:     1\n",
      "    table_size:      1024\n",
      "    exp_table_t:     ap_fixed<18,8>\n",
      "    inv_table_t:     ap_fixed<18,4>\n",
      "-----------------------------------\n",
      "Interpreting Model\n",
      "Topology:\n",
      "Layer name: encoder_input, layer type: InputLayer, input shapes: [[None, 64]], output shape: [None, 64]\n",
      "Layer name: fc1, layer type: QDense, input shapes: [[None, 64]], output shape: [None, 32]\n",
      "Layer name: relu1, layer type: Activation, input shapes: [[None, 32]], output shape: [None, 32]\n",
      "Layer name: fc2_prun, layer type: QDense, input shapes: [[None, 32]], output shape: [None, 16]\n",
      "Layer name: relu2, layer type: Activation, input shapes: [[None, 16]], output shape: [None, 16]\n",
      "Layer name: encoder_output, layer type: Dense, input shapes: [[None, 16]], output shape: [None, 2]\n",
      "Layer name: fc3, layer type: QDense, input shapes: [[None, 2]], output shape: [None, 16]\n",
      "Layer name: fc4_prunedclass, layer type: QDense, input shapes: [[None, 2]], output shape: [None, 16]\n",
      "Layer name: relu3, layer type: Activation, input shapes: [[None, 16]], output shape: [None, 16]\n",
      "Layer name: prunclass_relu4, layer type: Activation, input shapes: [[None, 16]], output shape: [None, 16]\n",
      "Layer name: fc4, layer type: QDense, input shapes: [[None, 16]], output shape: [None, 32]\n",
      "Layer name: fc5_class, layer type: QDense, input shapes: [[None, 16]], output shape: [None, 32]\n",
      "Layer name: relu4, layer type: Activation, input shapes: [[None, 32]], output shape: [None, 32]\n",
      "Layer name: class_relu5, layer type: Activation, input shapes: [[None, 32]], output shape: [None, 32]\n",
      "Layer name: decoder_output, layer type: QDense, input shapes: [[None, 32]], output shape: [None, 64]\n",
      "Layer name: classifier_out, layer type: QDense, input shapes: [[None, 32]], output shape: [None, 10]\n",
      "Layer name: sigmoid, layer type: Activation, input shapes: [[None, 64]], output shape: [None, 64]\n",
      "Layer name: classifier_output, layer type: Softmax, input shapes: [[None, 10]], output shape: [None, 10]\n",
      "Creating HLS model\n"
     ]
    }
   ],
   "source": [
    "import plotting\n",
    "import hls4ml\n",
    "hls4ml.model.optimizer.OutputRoundingSaturationMode.layers = ['Activation']\n",
    "hls4ml.model.optimizer.OutputRoundingSaturationMode.rounding_mode = 'AP_RND'\n",
    "hls4ml.model.optimizer.OutputRoundingSaturationMode.saturation_mode = 'AP_SAT'\n",
    "\n",
    "config = hls4ml.utils.config_from_keras_model(qae_w_classifier_pruned, granularity='name')\n",
    "config['LayerName']['classifier_output']['exp_table_t'] = 'ap_fixed<18,8>'\n",
    "config['LayerName']['classifier_output']['inv_table_t'] = 'ap_fixed<18,4>'\n",
    "print(\"-----------------------------------\")\n",
    "plotting.print_dict(config)\n",
    "print(\"-----------------------------------\")\n",
    "hls_model = hls4ml.converters.convert_from_keras_model(qae_w_classifier_pruned,\n",
    "                                                       hls_config=config,\n",
    "                                                       output_dir='model/QAE_model/hls4ml_prj',\n",
    "                                                       part='xc250-figd2104-2L-e')\n",
    "                                                       #part='xcvu9p-flgc2104aaz')\n"
   ]
  },
  {
   "cell_type": "markdown",
   "metadata": {},
   "source": [
    "# Compile"
   ]
  },
  {
   "cell_type": "code",
   "execution_count": 22,
   "metadata": {},
   "outputs": [
    {
     "name": "stdout",
     "output_type": "stream",
     "text": [
      "Writing HLS project\n",
      "Done\n"
     ]
    },
    {
     "ename": "Exception",
     "evalue": "Failed to compile project \"myproject\"",
     "output_type": "error",
     "traceback": [
      "\u001b[1;31m---------------------------------------------------------------------------\u001b[0m",
      "\u001b[1;31mException\u001b[0m                                 Traceback (most recent call last)",
      "\u001b[1;32m<ipython-input-22-20374fcfe547>\u001b[0m in \u001b[0;36m<module>\u001b[1;34m\u001b[0m\n\u001b[1;32m----> 1\u001b[1;33m \u001b[0mhls_model\u001b[0m\u001b[1;33m.\u001b[0m\u001b[0mcompile\u001b[0m\u001b[1;33m(\u001b[0m\u001b[1;33m)\u001b[0m\u001b[1;33m\u001b[0m\u001b[1;33m\u001b[0m\u001b[0m\n\u001b[0m",
      "\u001b[1;32m~\\miniconda3\\lib\\site-packages\\hls4ml\\model\\hls_model.py\u001b[0m in \u001b[0;36mcompile\u001b[1;34m(self)\u001b[0m\n\u001b[0;32m    532\u001b[0m             \u001b[0mret_val\u001b[0m \u001b[1;33m=\u001b[0m \u001b[0mos\u001b[0m\u001b[1;33m.\u001b[0m\u001b[0msystem\u001b[0m\u001b[1;33m(\u001b[0m\u001b[1;34m'bash build_lib.sh'\u001b[0m\u001b[1;33m)\u001b[0m\u001b[1;33m\u001b[0m\u001b[1;33m\u001b[0m\u001b[0m\n\u001b[0;32m    533\u001b[0m             \u001b[1;32mif\u001b[0m \u001b[0mret_val\u001b[0m \u001b[1;33m!=\u001b[0m \u001b[1;36m0\u001b[0m\u001b[1;33m:\u001b[0m\u001b[1;33m\u001b[0m\u001b[1;33m\u001b[0m\u001b[0m\n\u001b[1;32m--> 534\u001b[1;33m                 \u001b[1;32mraise\u001b[0m \u001b[0mException\u001b[0m\u001b[1;33m(\u001b[0m\u001b[1;34m'Failed to compile project \"{}\"'\u001b[0m\u001b[1;33m.\u001b[0m\u001b[0mformat\u001b[0m\u001b[1;33m(\u001b[0m\u001b[0mself\u001b[0m\u001b[1;33m.\u001b[0m\u001b[0mconfig\u001b[0m\u001b[1;33m.\u001b[0m\u001b[0mget_project_name\u001b[0m\u001b[1;33m(\u001b[0m\u001b[1;33m)\u001b[0m\u001b[1;33m)\u001b[0m\u001b[1;33m)\u001b[0m\u001b[1;33m\u001b[0m\u001b[1;33m\u001b[0m\u001b[0m\n\u001b[0m\u001b[0;32m    535\u001b[0m             \u001b[0mlib_name\u001b[0m \u001b[1;33m=\u001b[0m \u001b[1;34m'firmware/{}-{}.so'\u001b[0m\u001b[1;33m.\u001b[0m\u001b[0mformat\u001b[0m\u001b[1;33m(\u001b[0m\u001b[0mself\u001b[0m\u001b[1;33m.\u001b[0m\u001b[0mconfig\u001b[0m\u001b[1;33m.\u001b[0m\u001b[0mget_project_name\u001b[0m\u001b[1;33m(\u001b[0m\u001b[1;33m)\u001b[0m\u001b[1;33m,\u001b[0m \u001b[0mself\u001b[0m\u001b[1;33m.\u001b[0m\u001b[0mconfig\u001b[0m\u001b[1;33m.\u001b[0m\u001b[0mget_config_value\u001b[0m\u001b[1;33m(\u001b[0m\u001b[1;34m'Stamp'\u001b[0m\u001b[1;33m)\u001b[0m\u001b[1;33m)\u001b[0m\u001b[1;33m\u001b[0m\u001b[1;33m\u001b[0m\u001b[0m\n\u001b[0;32m    536\u001b[0m             \u001b[1;32mif\u001b[0m \u001b[0mself\u001b[0m\u001b[1;33m.\u001b[0m\u001b[0m_top_function_lib\u001b[0m \u001b[1;32mis\u001b[0m \u001b[1;32mnot\u001b[0m \u001b[1;32mNone\u001b[0m\u001b[1;33m:\u001b[0m\u001b[1;33m\u001b[0m\u001b[1;33m\u001b[0m\u001b[0m\n",
      "\u001b[1;31mException\u001b[0m: Failed to compile project \"myproject\""
     ]
    }
   ],
   "source": [
    "hls_model.compile()"
   ]
  },
  {
   "cell_type": "markdown",
   "metadata": {},
   "source": [
    "# Build"
   ]
  },
  {
   "cell_type": "code",
   "execution_count": 23,
   "metadata": {},
   "outputs": [
    {
     "name": "stdout",
     "output_type": "stream",
     "text": [
      "Project myproject_prj does not exist. Rerun \"hls4ml build -p model/QAE_model/hls4ml_prj\".\n"
     ]
    }
   ],
   "source": [
    "hls_model.build(csim=False)"
   ]
  },
  {
   "cell_type": "code",
   "execution_count": null,
   "metadata": {},
   "outputs": [],
   "source": []
  }
 ],
 "metadata": {
  "interpreter": {
   "hash": "789093bb736187c46b4a361b2c83e244a48ff9bb7ad40e66e5ffb40455c8edff"
  },
  "kernelspec": {
   "display_name": "Python 3",
   "language": "python",
   "name": "python3"
  },
  "language_info": {
   "codemirror_mode": {
    "name": "ipython",
    "version": 3
   },
   "file_extension": ".py",
   "mimetype": "text/x-python",
   "name": "python",
   "nbconvert_exporter": "python",
   "pygments_lexer": "ipython3",
   "version": "3.8.8"
  }
 },
 "nbformat": 4,
 "nbformat_minor": 1
}
