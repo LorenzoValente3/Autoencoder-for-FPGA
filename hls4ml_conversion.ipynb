{
 "cells": [
  {
   "cell_type": "code",
   "execution_count": 1,
   "metadata": {},
   "outputs": [
    {
     "name": "stdout",
     "output_type": "stream",
     "text": [
      "WARNING:tensorflow:No training configuration found in the save file, so the model was *not* compiled. Compile it manually.\n",
      "WARNING:tensorflow:No training configuration found in the save file, so the model was *not* compiled. Compile it manually.\n",
      "WARNING:tensorflow:No training configuration found in the save file, so the model was *not* compiled. Compile it manually.\n",
      "WARNING:tensorflow:No training configuration found in the save file, so the model was *not* compiled. Compile it manually.\n"
     ]
    }
   ],
   "source": [
    "from tensorflow.keras.models import load_model\n",
    "###### AE MODEL LOAD ######\n",
    "ae_wo_classifier = load_model('model/AE_model/KERAS_check_best_model.h5')\n",
    "ae_wo_classifier_pruned = load_model('model/AE_model/KERAS_check_pruned_best_model.h5')\n",
    "ae_w_classifier = load_model('model/AE_model/KERAS_check_best_model_classifier.h5')\n",
    "ae_w_classifier_pruned = load_model('model/AE_model/KERAS_check_pruned_best_model_classifier.h5')"
   ]
  },
  {
   "cell_type": "markdown",
   "metadata": {},
   "source": [
    "## Check sparsity\n",
    "Make a quick check that the model was indeed trained sparse. We'll just make a histogram of the weights of the 1st layer, and hopefully observe a large peak in the bin containing '0'. Note logarithmic y axis."
   ]
  },
  {
   "cell_type": "code",
   "execution_count": 2,
   "metadata": {},
   "outputs": [
    {
     "name": "stdout",
     "output_type": "stream",
     "text": [
      "% of zeros = 0.75\n"
     ]
    },
    {
     "data": {
      "image/png": "[encoded data removed]",
      "text/plain": [
       "<Figure size 504x504 with 1 Axes>"
      ]
     },
     "metadata": {
      "needs_background": "light"
     },
     "output_type": "display_data"
    }
   ],
   "source": [
    "import numpy as np\n",
    "from matplotlib import pyplot as plt\n",
    "\n",
    "w = ae_w_classifier_pruned.layers[2].weights[0].numpy()\n",
    "h, b = np.histogram(w, bins=100)\n",
    "plt.figure(figsize=(7,7))\n",
    "plt.bar(b[:-1], h, width=b[1]-b[0])\n",
    "plt.semilogy()\n",
    "print('% of zeros = {}'.format(np.sum(w==0)/np.size(w)))"
   ]
  },
  {
   "cell_type": "code",
   "execution_count": 2,
   "metadata": {},
   "outputs": [
    {
     "data": {
      "text/plain": [
       "'\\nimport plotting\\nfrom plotting import makeRoc\\nimport matplotlib.pyplot as plt\\nfrom sklearn.metrics import accuracy_score\\nfrom tensorflow.keras.models import load_model\\nimport numpy as np\\nmodel = load_model(\\'model/AE_model/KERAS_check_model_w_classifier.h5\\')\\n#model_pruned =load_model(\\'model/AE_model/KERAS_check_pruned_model_w_classifier.h5\\')\\n\\ny_test = data_zoom.y_test\\n\\ny_ref = model.predict(data_zoom.x_test)\\n#y_prune = ae_wo_classifier.predict(data_zoom.x_test)\\n#print(\"Accuracy unpruned: {}\".format(accuracy_score(np.argmax(y_test.reshape(10000,10), axis=1), np.argmax(y_ref.reshape((10000,10)), axis=1))))\\n#print(\"Accuracy pruned:   {}\".format(accuracy_score(np.argmax(y_test, axis=1), np.argmax(y_prune, axis=1))))\\n\\nfig, ax = plt.subplots(figsize=(9, 9))\\n_ = makeRoc(y_test, y_ref)\\nplt.gca().set_prop_cycle(None) # reset the colors\\n_ = plotting.makeRoc(y_test, y_prune, linestyle=\\'--\\')\\n\\nfrom matplotlib.lines import Line2D\\nlines = [Line2D([0], [0], ls=\\'-\\'),\\n         Line2D([0], [0], ls=\\'--\\')]\\nfrom matplotlib.legend import Legend\\nleg = Legend(ax, lines, labels=[\\'unpruned\\', \\'pruned\\'],\\n            loc=\\'lower right\\', frameon=False)\\nax.add_artist(leg)'"
      ]
     },
     "execution_count": 2,
     "metadata": {},
     "output_type": "execute_result"
    }
   ],
   "source": [
    "import MNIST_dataset as mnist\n",
    "size_final = 10\n",
    "data_zoom = mnist.MNISTData(size_final=size_final, color_depth=5)\n",
    "\"\"\"\n",
    "import plotting\n",
    "from plotting import makeRoc\n",
    "import matplotlib.pyplot as plt\n",
    "from sklearn.metrics import accuracy_score\n",
    "from tensorflow.keras.models import load_model\n",
    "import numpy as np\n",
    "model = load_model('model/AE_model/KERAS_check_model_w_classifier.h5')\n",
    "#model_pruned =load_model('model/AE_model/KERAS_check_pruned_model_w_classifier.h5')\n",
    "\n",
    "y_test = data_zoom.y_test\n",
    "\n",
    "y_ref = model.predict(data_zoom.x_test)\n",
    "#y_prune = ae_wo_classifier.predict(data_zoom.x_test)\n",
    "#print(\"Accuracy unpruned: {}\".format(accuracy_score(np.argmax(y_test.reshape(10000,10), axis=1), np.argmax(y_ref.reshape((10000,10)), axis=1))))\n",
    "#print(\"Accuracy pruned:   {}\".format(accuracy_score(np.argmax(y_test, axis=1), np.argmax(y_prune, axis=1))))\n",
    "\n",
    "fig, ax = plt.subplots(figsize=(9, 9))\n",
    "_ = makeRoc(y_test, y_ref)\n",
    "plt.gca().set_prop_cycle(None) # reset the colors\n",
    "_ = plotting.makeRoc(y_test, y_prune, linestyle='--')\n",
    "\n",
    "from matplotlib.lines import Line2D\n",
    "lines = [Line2D([0], [0], ls='-'),\n",
    "         Line2D([0], [0], ls='--')]\n",
    "from matplotlib.legend import Legend\n",
    "leg = Legend(ax, lines, labels=['unpruned', 'pruned'],\n",
    "            loc='lower right', frameon=False)\n",
    "ax.add_artist(leg)\"\"\""
   ]
  },
  {
   "cell_type": "markdown",
   "metadata": {},
   "source": [
    "# Make an hls4ml config & model"
   ]
  },
  {
   "cell_type": "code",
   "execution_count": 3,
   "metadata": {},
   "outputs": [
    {
     "name": "stdout",
     "output_type": "stream",
     "text": [
      "Interpreting Model\n",
      "Topology:\n",
      "Layer name: encoder_input, layer type: Input\n",
      "Layer name: dense_14, layer type: Dense\n",
      "  -> Activation (relu), layer name: dense_14\n",
      "Layer name: dense_15, layer type: Dense\n",
      "  -> Activation (relu), layer name: dense_15\n",
      "Layer name: encoder_output, layer type: Dense\n",
      "  -> Activation (relu), layer name: encoder_output\n",
      "Layer name: dense_16, layer type: Dense\n",
      "  -> Activation (relu), layer name: dense_16\n",
      "Layer name: dense_18, layer type: Dense\n",
      "  -> Activation (relu), layer name: dense_18\n",
      "Layer name: dense_17, layer type: Dense\n",
      "  -> Activation (relu), layer name: dense_17\n",
      "Layer name: dense_19, layer type: Dense\n",
      "  -> Activation (relu), layer name: dense_19\n",
      "Layer name: ecoder_output, layer type: Dense\n",
      "  -> Activation (sigmoid), layer name: ecoder_output\n",
      "Layer name: classifier_output, layer type: Dense\n",
      "  -> Activation (softmax), layer name: classifier_output\n",
      "-----------------------------------\n",
      "Configuration\n",
      "{'Model': {'Precision': 'ap_fixed<16,6>', 'ReuseFactor': 1, 'Strategy': 'Latency'}}\n",
      "-----------------------------------\n",
      "Interpreting Model\n",
      "Topology:\n",
      "Layer name: encoder_input, layer type: InputLayer, input shapes: [[None, 64]], output shape: [None, 64]\n",
      "Layer name: dense_14, layer type: Dense, input shapes: [[None, 64]], output shape: [None, 32]\n",
      "Layer name: dense_15, layer type: Dense, input shapes: [[None, 32]], output shape: [None, 16]\n",
      "Layer name: encoder_output, layer type: Dense, input shapes: [[None, 16]], output shape: [None, 2]\n",
      "Layer name: dense_16, layer type: Dense, input shapes: [[None, 2]], output shape: [None, 16]\n",
      "Layer name: dense_18, layer type: Dense, input shapes: [[None, 2]], output shape: [None, 16]\n",
      "Layer name: dense_17, layer type: Dense, input shapes: [[None, 16]], output shape: [None, 32]\n",
      "Layer name: dense_19, layer type: Dense, input shapes: [[None, 16]], output shape: [None, 32]\n",
      "Layer name: ecoder_output, layer type: Dense, input shapes: [[None, 32]], output shape: [None, 64]\n",
      "Layer name: classifier_output, layer type: Dense, input shapes: [[None, 32]], output shape: [None, 10]\n",
      "Creating HLS model\n"
     ]
    },
    {
     "name": "stderr",
     "output_type": "stream",
     "text": [
      "C:\\Users\\loren\\miniconda3\\lib\\site-packages\\hls4ml\\converters\\__init__.py:16: UserWarning: WARNING: Pytorch converter is not enabled!\n",
      "  warnings.warn(\"WARNING: Pytorch converter is not enabled!\")\n"
     ]
    }
   ],
   "source": [
    "#import plotting\n",
    "import hls4ml\n",
    "config = hls4ml.utils.config_from_keras_model(ae_w_classifier_pruned, granularity='model')\n",
    "print(\"-----------------------------------\")\n",
    "print(\"Configuration\")\n",
    "print(config)\n",
    "print(\"-----------------------------------\")\n",
    "hls_model = hls4ml.converters.convert_from_keras_model(ae_w_classifier_pruned,\n",
    "                                                       hls_config=config,\n",
    "                                                       output_dir='model/AE_model/hls4ml_prj',\n",
    "                                                       part='xc250-figd2104-2L-e')\n",
    "                                                       #part='xcvu9p-flgc2104aaz')\n"
   ]
  },
  {
   "cell_type": "code",
   "execution_count": null,
   "metadata": {},
   "outputs": [],
   "source": [
    "hls4ml.utils.plot_model(hls_model, show_shapes=True, show_precision=True, to_file=None)"
   ]
  },
  {
   "cell_type": "markdown",
   "metadata": {},
   "source": [
    "# Compile"
   ]
  },
  {
   "cell_type": "code",
   "execution_count": null,
   "metadata": {},
   "outputs": [],
   "source": [
    "hls_model.compile()"
   ]
  },
  {
   "cell_type": "markdown",
   "metadata": {},
   "source": [
    "# Build"
   ]
  },
  {
   "cell_type": "code",
   "execution_count": null,
   "metadata": {},
   "outputs": [],
   "source": [
    "hls_model.build(csim=False)"
   ]
  }
 ],
 "metadata": {
  "interpreter": {
   "hash": "789093bb736187c46b4a361b2c83e244a48ff9bb7ad40e66e5ffb40455c8edff"
  },
  "kernelspec": {
   "display_name": "Python 3",
   "language": "python",
   "name": "python3"
  },
  "language_info": {
   "codemirror_mode": {
    "name": "ipython",
    "version": 3
   },
   "file_extension": ".py",
   "mimetype": "text/x-python",
   "name": "python",
   "nbconvert_exporter": "python",
   "pygments_lexer": "ipython3",
   "version": "3.8.8"
  }
 },
 "nbformat": 4,
 "nbformat_minor": 1
}
