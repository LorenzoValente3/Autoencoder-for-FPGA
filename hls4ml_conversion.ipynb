{
 "cells": [
  {
   "cell_type": "code",
   "execution_count": 12,
   "metadata": {},
   "outputs": [
    {
     "name": "stdout",
     "output_type": "stream",
     "text": [
      "WARNING:tensorflow:No training configuration found in the save file, so the model was *not* compiled. Compile it manually.\n"
     ]
    },
    {
     "name": "stderr",
     "output_type": "stream",
     "text": [
      "WARNING:tensorflow:No training configuration found in the save file, so the model was *not* compiled. Compile it manually.\n"
     ]
    },
    {
     "name": "stdout",
     "output_type": "stream",
     "text": [
      "WARNING:tensorflow:No training configuration found in the save file, so the model was *not* compiled. Compile it manually.\n"
     ]
    },
    {
     "name": "stderr",
     "output_type": "stream",
     "text": [
      "WARNING:tensorflow:No training configuration found in the save file, so the model was *not* compiled. Compile it manually.\n"
     ]
    },
    {
     "name": "stdout",
     "output_type": "stream",
     "text": [
      "WARNING:tensorflow:No training configuration found in the save file, so the model was *not* compiled. Compile it manually.\n"
     ]
    },
    {
     "name": "stderr",
     "output_type": "stream",
     "text": [
      "WARNING:tensorflow:No training configuration found in the save file, so the model was *not* compiled. Compile it manually.\n"
     ]
    },
    {
     "name": "stdout",
     "output_type": "stream",
     "text": [
      "WARNING:tensorflow:No training configuration found in the save file, so the model was *not* compiled. Compile it manually.\n"
     ]
    },
    {
     "name": "stderr",
     "output_type": "stream",
     "text": [
      "WARNING:tensorflow:No training configuration found in the save file, so the model was *not* compiled. Compile it manually.\n"
     ]
    }
   ],
   "source": [
    "from tensorflow.keras.models import load_model\n",
    "###### AE MODEL LOAD ######\n",
    "ae_wo_classifier = load_model('model/AE_model/KERAS_check_best_model.h5')\n",
    "ae_wo_classifier_pruned = load_model('model/AE_model/KERAS_check_pruned_best_model.h5')\n",
    "ae_w_classifier = load_model('model/AE_model/KERAS_check_best_model_classifier.h5')\n",
    "ae_w_classifier_pruned = load_model('model/AE_model/KERAS_check_pruned_best_model_classifier.h5')"
   ]
  },
  {
   "cell_type": "code",
   "execution_count": 1,
   "metadata": {},
   "outputs": [
    {
     "name": "stdout",
     "output_type": "stream",
     "text": [
      "WARNING:tensorflow:No training configuration found in the save file, so the model was *not* compiled. Compile it manually.\n"
     ]
    },
    {
     "name": "stderr",
     "output_type": "stream",
     "text": [
      "WARNING:tensorflow:No training configuration found in the save file, so the model was *not* compiled. Compile it manually.\n"
     ]
    },
    {
     "name": "stdout",
     "output_type": "stream",
     "text": [
      "WARNING:tensorflow:No training configuration found in the save file, so the model was *not* compiled. Compile it manually.\n"
     ]
    },
    {
     "name": "stderr",
     "output_type": "stream",
     "text": [
      "WARNING:tensorflow:No training configuration found in the save file, so the model was *not* compiled. Compile it manually.\n"
     ]
    },
    {
     "name": "stdout",
     "output_type": "stream",
     "text": [
      "WARNING:tensorflow:No training configuration found in the save file, so the model was *not* compiled. Compile it manually.\n"
     ]
    },
    {
     "name": "stderr",
     "output_type": "stream",
     "text": [
      "WARNING:tensorflow:No training configuration found in the save file, so the model was *not* compiled. Compile it manually.\n"
     ]
    },
    {
     "name": "stdout",
     "output_type": "stream",
     "text": [
      "WARNING:tensorflow:No training configuration found in the save file, so the model was *not* compiled. Compile it manually.\n"
     ]
    },
    {
     "name": "stderr",
     "output_type": "stream",
     "text": [
      "WARNING:tensorflow:No training configuration found in the save file, so the model was *not* compiled. Compile it manually.\n"
     ]
    }
   ],
   "source": [
    "from tensorflow.keras.models import load_model\n",
    "from qkeras.utils import _add_supported_quantized_objects\n",
    "co = {}\n",
    "_add_supported_quantized_objects(co)\n",
    "\n",
    "qae_wo_classifier = load_model('model/QAE_model/KERAS_check_best_model.h5', custom_objects=co)\n",
    "qae_wo_classifier_pruned = load_model('model/QAE_model/KERAS_check_pruned_best_model.h5', custom_objects=co)\n",
    "qae_w_classifier = load_model('model/QAE_model/KERAS_check_best_model_classifier.h5', custom_objects=co)\n",
    "qae_w_classifier_pruned = load_model('model/QAE_model/KERAS_check_pruned_best_model_classifier.h5', custom_objects=co)"
   ]
  },
  {
   "cell_type": "markdown",
   "metadata": {},
   "source": [
    "## Check sparsity\n",
    "Make a quick check that the model was indeed trained sparse. We'll just make a histogram of the weights of the 1st layer, and hopefully observe a large peak in the bin containing '0'. Note logarithmic y axis."
   ]
  },
  {
   "cell_type": "code",
   "execution_count": 24,
   "metadata": {},
   "outputs": [
    {
     "name": "stdout",
     "output_type": "stream",
     "text": [
      "[[ 1.09893489e+00  1.34919703e+00 -1.08945742e-01  1.18162405e+00\n",
      "  -4.88221312e+00 -9.04404283e-01 -3.22372079e+00  2.45152068e+00\n",
      "   2.03548461e-01  6.46267354e-01]\n",
      " [ 8.58864009e-01 -1.90976429e+00  8.65204334e-02  1.15088761e+00\n",
      "  -3.21435285e+00  1.98693204e+00  7.87147224e-01 -1.34608793e+00\n",
      "  -2.99453050e-01 -1.01868145e-01]\n",
      " [ 1.40440679e-04 -2.04144162e-04 -1.98086782e-04 -1.32485984e-05\n",
      "   2.10707622e-05 -2.03430012e-04 -1.44235237e-05 -6.23051164e-06\n",
      "  -4.20870492e-07 -7.49968895e-05]\n",
      " [ 1.11245468e-01  1.10917747e+00 -2.95153242e-02 -6.30209595e-02\n",
      "   5.90066671e-01 -1.06448257e+00  1.25119185e+00 -2.21502399e+00\n",
      "   2.31679469e-01 -1.42425904e-03]\n",
      " [-3.31831211e-03  1.00794661e+00 -1.01066334e-02 -1.01668870e+00\n",
      "   4.09806311e-01 -1.43602133e+00  1.22483826e+00 -1.86940134e+00\n",
      "   9.55081359e-02 -8.50413799e-01]\n",
      " [-7.99887478e-01 -1.95529747e+00  2.09273435e-02  9.22989607e-01\n",
      "   2.11714551e-01  6.16716921e-01  7.46967643e-02 -2.33469218e-01\n",
      "   3.03790485e-03 -1.04450412e-01]\n",
      " [ 4.76652294e-01  2.61430770e-01 -1.27850199e+00  1.33105278e+00\n",
      "   8.46431911e-01 -2.83078969e-01 -2.91162229e+00 -2.18820512e-01\n",
      "  -1.14791110e-01  8.60310197e-02]\n",
      " [ 2.18328874e-04  1.36353483e-05  1.67979364e-04  5.76605817e-05\n",
      "  -1.80368115e-05  5.90371201e-08 -4.32952947e-04 -1.36724429e-06\n",
      "   1.58060036e-04  1.00883859e-04]\n",
      " [ 6.70821309e-01 -4.29328084e-02 -1.71477973e+00  5.29332876e-01\n",
      "   1.92519113e-01  8.46853256e-01 -1.39801121e+00 -1.78980961e-01\n",
      "   4.41376060e-01 -4.26924862e-02]\n",
      " [-7.87875988e-03  1.62283719e+00  1.49286735e+00  6.48780644e-01\n",
      "   8.78192186e-01  8.59248638e-03 -4.48711142e-02 -9.33042169e-01\n",
      "  -3.91137958e+00 -6.53242707e-01]\n",
      " [-4.48257625e-01 -2.84745049e+00 -2.81971246e-02  8.74845624e-01\n",
      "   2.10259125e-01  1.10273480e+00  3.91468734e-01 -3.46906662e-01\n",
      "  -1.31769642e-01  6.62185967e-01]\n",
      " [ 6.81689489e-05 -1.61618125e-04  4.83184522e-05 -3.68184483e-05\n",
      "   2.36968244e-05 -1.17933669e-04  3.69005429e-05  8.00584555e-02\n",
      "   8.20832283e-05 -1.43232755e-05]\n",
      " [-8.31805289e-01  6.60585105e-01  5.03227234e-01 -1.60103485e-01\n",
      "   9.61290836e-01 -1.16994441e+00 -3.04498267e+00 -4.59566057e-01\n",
      "  -2.05313563e-01  1.65535197e-01]\n",
      " [ 1.93672255e-01 -6.33609761e-03  1.05079484e+00 -1.18774796e+00\n",
      "  -3.48726630e-01 -2.17140532e+00 -3.10338354e+00  6.24078214e-01\n",
      "  -7.97936976e-01  1.43601561e+00]\n",
      " [-1.01154697e+00 -1.33019996e+00  1.07497409e-01  9.81846213e-01\n",
      "   5.41873097e-01  9.28398252e-01  8.94749165e-02 -1.40184951e+00\n",
      "  -1.32146152e-03  1.48382902e-01]\n",
      " [-5.81491366e-03  2.72133052e-01 -1.30271437e-02  5.70319779e-03\n",
      "  -1.00632799e+00 -2.37553144e+00  1.25020432e+00  1.93152225e+00\n",
      "   2.48154387e-01 -3.47959638e+00]\n",
      " [ 1.66345990e+00 -3.99195051e+00  8.46756101e-01  2.27595910e-01\n",
      "   6.46652700e-03  1.69350401e-01 -2.24801707e+00 -3.71232599e-01\n",
      "  -9.93452892e-02  2.50455499e-01]\n",
      " [ 8.93214019e-06 -4.69450333e-06  2.95969716e-04 -1.17808377e-05\n",
      "   2.02436931e-04 -5.86552778e-06  1.24162470e-05  2.44694209e-04\n",
      "  -1.77505295e-04 -1.15876355e-06]\n",
      " [ 6.90671289e-03  9.05941904e-01 -1.25064015e+00 -2.35441256e+00\n",
      "  -1.47902459e-01 -2.35302448e+00 -1.29422617e+00  1.52507937e+00\n",
      "  -5.27501889e-02  6.21832550e-01]\n",
      " [ 4.85717464e-06  1.47188548e-05  2.53441249e-05 -1.37638533e-04\n",
      "  -4.89112164e-04  5.52385318e-05 -1.32034620e-04 -8.01490751e-05\n",
      "   1.23036443e-04 -1.44872713e-04]\n",
      " [ 3.18733245e-01  4.97955829e-02 -3.45121976e-03 -2.93367529e+00\n",
      "  -1.42072976e+00 -1.13121152e+00  4.01801378e-01  1.54269433e+00\n",
      "   3.08584958e-01  3.30026411e-02]\n",
      " [-1.96100545e+00 -7.07828224e-01  7.61511445e-01  1.39186037e+00\n",
      "   1.17638421e+00  1.14515197e+00  4.09619570e-01 -3.55230379e+00\n",
      "   2.23360702e-01 -1.35559726e+00]\n",
      " [-8.79750490e-01  1.12205319e-01 -7.26494730e-01  7.91886330e-01\n",
      "   1.76551685e-01  6.62156403e-01  6.88797375e-03 -6.37506545e-01\n",
      "   4.44593906e-01  2.01607987e-01]\n",
      " [ 1.50857246e-04 -1.39479758e-04 -6.16495672e-05 -2.85485352e-04\n",
      "  -1.16095667e-04 -1.89797247e-05  5.53680002e-06 -8.46618204e-05\n",
      "   1.27656822e-04  1.41899945e-05]\n",
      " [-6.50228176e-05  8.07899341e-05 -9.98139658e-05 -6.73932009e-05\n",
      "  -5.37995802e-05  1.52264562e-04  2.28768113e-06  2.78835978e-05\n",
      "   2.22714400e-04  1.06492400e-04]\n",
      " [ 2.50406039e-04  2.44181865e-05 -1.58405179e-04 -7.57245434e-05\n",
      "   1.97611036e-04  2.62629765e-04  3.31903575e-05 -4.13508315e-06\n",
      "   9.10062881e-05  1.92034458e-05]\n",
      " [-1.99675000e+00  1.23184896e+00 -8.56730714e-02 -2.60321045e+00\n",
      "  -6.22858942e-01 -2.48480678e+00 -6.53842092e-01  2.21895432e+00\n",
      "  -1.18966416e-01  7.12083101e-01]\n",
      " [ 4.10312205e-04  8.30319332e-05  1.07170737e-04 -1.72043015e-04\n",
      "  -1.06241881e-04  1.48838080e-06  9.44716885e-05  9.49664609e-05\n",
      "  -3.14055418e-04  7.30053871e-05]\n",
      " [-9.99966919e-01  2.55619556e-01  3.42817545e-01 -1.37075022e-01\n",
      "   1.41593599e+00 -2.48195195e+00  1.17924865e-02  2.74431258e-01\n",
      "  -2.25006151e+00  6.43207252e-01]\n",
      " [ 1.88509083e+00  3.94367635e-01 -1.81849742e+00 -2.84297347e+00\n",
      "  -6.42261624e-01 -3.15519035e-01  1.75929889e-02  1.80951571e+00\n",
      "  -2.46337605e+00  8.90754879e-01]\n",
      " [ 4.44386460e-05  2.61237474e-05  3.52331698e-02  5.03227056e-05\n",
      "   4.79503942e-05  4.10338544e-05 -5.08404046e-05  4.02731130e-05\n",
      "  -8.60815198e-05 -4.34838803e-05]\n",
      " [ 2.92544693e-01 -3.45355645e-02  7.45340213e-02 -3.73911428e+00\n",
      "  -8.80771995e-01 -3.57018411e-01  6.72490001e-01  5.91623604e-01\n",
      "   6.05001509e-01 -7.93710709e-01]]\n"
     ]
    }
   ],
   "source": [
    "w = qae_w_classifier_pruned.layers[10].weights[0].numpy()\n",
    "print(w)"
   ]
  },
  {
   "cell_type": "code",
   "execution_count": 27,
   "metadata": {},
   "outputs": [
    {
     "data": {
      "image/png": "[encoded data removed]",
      "text/plain": [
       "<Figure size 720x720 with 6 Axes>"
      ]
     },
     "metadata": {
      "needs_background": "light"
     },
     "output_type": "display_data"
    }
   ],
   "source": [
    "import numpy as np\n",
    "import matplotlib.pyplot as plt\n",
    "\n",
    "w = 10\n",
    "h = 10\n",
    "fig = plt.figure(figsize=(10, 10))\n",
    "columns = 2\n",
    "rows = 3\n",
    "fig.subplots_adjust(hspace=0.4, wspace=0.4)\n",
    "\n",
    "#this applies for the quantized loop\n",
    "num_layers = [1,3,5,6,8,10]#,11,14,15]\n",
    "j = 1\n",
    "\n",
    "for i in num_layers:\n",
    "#for i in range(1, columns*rows +1):  \n",
    "    fig.add_subplot(rows, columns, j)\n",
    "    w = qae_w_classifier_pruned.layers[i].weights[0].numpy()\n",
    "    h, b = np.histogram(w, bins=100)\n",
    "    plt.bar(b[:-1], h, width=b[1]-b[0])\n",
    "    plt.semilogy()\n",
    "    plt.title('Weight distribution of layer '+ str(j))\n",
    "    j += 1\n",
    "\n",
    "#plt.savefig('./Report/images/section4/pruned_weightsdistr.png')\n",
    "plt.show()\n"
   ]
  },
  {
   "cell_type": "markdown",
   "metadata": {},
   "source": [
    "# Make an hls4ml config & model"
   ]
  },
  {
   "cell_type": "code",
   "execution_count": 4,
   "metadata": {},
   "outputs": [
    {
     "name": "stderr",
     "output_type": "stream",
     "text": [
      "C:\\Users\\loren\\miniconda3\\lib\\site-packages\\hls4ml\\converters\\__init__.py:16: UserWarning: WARNING: Pytorch converter is not enabled!\n",
      "  warnings.warn(\"WARNING: Pytorch converter is not enabled!\")\n"
     ]
    },
    {
     "name": "stdout",
     "output_type": "stream",
     "text": [
      "Interpreting Model\n",
      "Topology:\n",
      "Layer name: encoder_input, layer type: Input\n",
      "Layer name: fc1, layer type: QDense\n",
      "Layer name: relu1, layer type: QActivation\n",
      "Layer name: fc2_prun, layer type: QDense\n",
      "Layer name: relu2, layer type: QActivation\n",
      "Layer name: encoder_output, layer type: Dense\n",
      "  -> Activation (relu), layer name: encoder_output\n",
      "Layer name: fc4_prunedclass, layer type: QDense\n",
      "Layer name: prunclass_relu4, layer type: QActivation\n",
      "Layer name: fc5_class, layer type: QDense\n",
      "Layer name: class_relu5, layer type: QActivation\n",
      "Layer name: classifier_out, layer type: QDense\n",
      "Layer name: classifier_output, layer type: Activation\n",
      "-----------------------------------\n",
      "Model\n",
      "  Precision:         ap_fixed<16,6>\n",
      "  ReuseFactor:       1\n",
      "  Strategy:          Latency\n",
      "LayerName\n",
      "  encoder_input\n",
      "    Precision:       ap_fixed<6,0>\n",
      "  fc1\n",
      "    Precision\n",
      "      weight:        ap_fixed<5,1>\n",
      "      bias:          ap_fixed<5,1>\n",
      "    ReuseFactor:     1\n",
      "  relu1\n",
      "    Precision\n",
      "      result:        ap_ufixed<5,0>\n",
      "    ReuseFactor:     1\n",
      "  fc2_prun\n",
      "    Precision\n",
      "      weight:        ap_fixed<5,1>\n",
      "      bias:          ap_fixed<5,1>\n",
      "    ReuseFactor:     1\n",
      "  relu2\n",
      "    Precision\n",
      "      result:        ap_ufixed<5,0>\n",
      "    ReuseFactor:     1\n",
      "  encoder_output\n",
      "    Precision\n",
      "      weight:        ap_fixed<16,6>\n",
      "      bias:          ap_fixed<16,6>\n",
      "      result:        ap_fixed<16,6>\n",
      "    ReuseFactor:     1\n",
      "  encoder_output_relu\n",
      "    Precision:       ap_fixed<16,6>\n",
      "    ReuseFactor:     1\n",
      "    table_size:      1024\n",
      "    table_t:         ap_fixed<18,8>\n",
      "  fc4_prunedclass\n",
      "    Precision\n",
      "      weight:        ap_fixed<6,1>\n",
      "      bias:          ap_fixed<6,1>\n",
      "    ReuseFactor:     1\n",
      "  prunclass_relu4\n",
      "    Precision\n",
      "      result:        ap_ufixed<6,0>\n",
      "    ReuseFactor:     1\n",
      "  fc5_class\n",
      "    Precision\n",
      "      weight:        ap_fixed<6,1>\n",
      "      bias:          ap_fixed<6,1>\n",
      "    ReuseFactor:     1\n",
      "  class_relu5\n",
      "    Precision\n",
      "      result:        ap_ufixed<6,0>\n",
      "    ReuseFactor:     1\n",
      "  classifier_out\n",
      "    Precision\n",
      "      weight:        ap_fixed<16,7>\n",
      "      bias:          ap_fixed<16,7>\n",
      "    ReuseFactor:     1\n",
      "  classifier_output\n",
      "    Precision:       ap_fixed<16,6>\n",
      "    ReuseFactor:     1\n",
      "    table_size:      1024\n",
      "    exp_table_t:     ap_fixed<18,8>\n",
      "    inv_table_t:     ap_fixed<18,4>\n",
      "-----------------------------------\n",
      "Interpreting Model\n",
      "Topology:\n",
      "Layer name: encoder_input, layer type: InputLayer, input shapes: [[None, 64]], output shape: [None, 64]\n",
      "Layer name: fc1, layer type: QDense, input shapes: [[None, 64]], output shape: [None, 32]\n",
      "Layer name: relu1, layer type: Activation, input shapes: [[None, 32]], output shape: [None, 32]\n",
      "Layer name: fc2_prun, layer type: QDense, input shapes: [[None, 32]], output shape: [None, 16]\n",
      "Layer name: relu2, layer type: Activation, input shapes: [[None, 16]], output shape: [None, 16]\n",
      "Layer name: encoder_output, layer type: Dense, input shapes: [[None, 16]], output shape: [None, 2]\n",
      "Layer name: fc4_prunedclass, layer type: QDense, input shapes: [[None, 2]], output shape: [None, 16]\n",
      "Layer name: prunclass_relu4, layer type: Activation, input shapes: [[None, 16]], output shape: [None, 16]\n",
      "Layer name: fc5_class, layer type: QDense, input shapes: [[None, 16]], output shape: [None, 32]\n",
      "Layer name: class_relu5, layer type: Activation, input shapes: [[None, 32]], output shape: [None, 32]\n",
      "Layer name: classifier_out, layer type: QDense, input shapes: [[None, 32]], output shape: [None, 10]\n",
      "Layer name: classifier_output, layer type: Softmax, input shapes: [[None, 10]], output shape: [None, 10]\n",
      "Creating HLS model\n"
     ]
    }
   ],
   "source": [
    "import plotting\n",
    "import hls4ml\n",
    "hls4ml.model.optimizer.OutputRoundingSaturationMode.layers = ['Activation']\n",
    "hls4ml.model.optimizer.OutputRoundingSaturationMode.rounding_mode = 'AP_RND'\n",
    "hls4ml.model.optimizer.OutputRoundingSaturationMode.saturation_mode = 'AP_SAT'\n",
    "\n",
    "config = hls4ml.utils.config_from_keras_model(qae_w_classifier_pruned, granularity='name')\n",
    "config['LayerName']['encoder_input']['Precision']='ap_fixed<6,0>'\n",
    "\n",
    "#config['LayerName']['classifier_output']['Precision'] = 'ap_fixed<32,12>'\n",
    "config['LayerName']['classifier_output']['exp_table_t'] = 'ap_fixed<18,8>'\n",
    "config['LayerName']['classifier_output']['inv_table_t'] = 'ap_fixed<18,4>'\n",
    "print(\"-----------------------------------\")\n",
    "plotting.print_dict(config)\n",
    "print(\"-----------------------------------\")\n",
    "hls_model = hls4ml.converters.convert_from_keras_model(qae_w_classifier_pruned,\n",
    "                                                       hls_config=config,\n",
    "                                                       output_dir='model/QAE_model/hls4ml_prj',\n",
    "                                                       part='xcu250-figd2104-2L-e')\n",
    "                                                       #part='xcvu9p-flgc2104aaz')\n",
    "                                                       #part='xc7vx690t-ffg176-2')\n"
   ]
  },
  {
   "cell_type": "markdown",
   "metadata": {},
   "source": [
    "# Compile"
   ]
  },
  {
   "cell_type": "code",
   "execution_count": 5,
   "metadata": {},
   "outputs": [
    {
     "name": "stdout",
     "output_type": "stream",
     "text": [
      "Writing HLS project\n",
      "Done\n"
     ]
    },
    {
     "ename": "Exception",
     "evalue": "Failed to compile project \"myproject\"",
     "output_type": "error",
     "traceback": [
      "\u001b[1;31m---------------------------------------------------------------------------\u001b[0m",
      "\u001b[1;31mException\u001b[0m                                 Traceback (most recent call last)",
      "\u001b[1;32m~\\AppData\\Local\\Temp/ipykernel_8548/2589678617.py\u001b[0m in \u001b[0;36m<module>\u001b[1;34m\u001b[0m\n\u001b[1;32m----> 1\u001b[1;33m \u001b[0mhls_model\u001b[0m\u001b[1;33m.\u001b[0m\u001b[0mcompile\u001b[0m\u001b[1;33m(\u001b[0m\u001b[1;33m)\u001b[0m\u001b[1;33m\u001b[0m\u001b[1;33m\u001b[0m\u001b[0m\n\u001b[0m",
      "\u001b[1;32m~\\miniconda3\\lib\\site-packages\\hls4ml\\model\\hls_model.py\u001b[0m in \u001b[0;36mcompile\u001b[1;34m(self)\u001b[0m\n\u001b[0;32m    532\u001b[0m             \u001b[0mret_val\u001b[0m \u001b[1;33m=\u001b[0m \u001b[0mos\u001b[0m\u001b[1;33m.\u001b[0m\u001b[0msystem\u001b[0m\u001b[1;33m(\u001b[0m\u001b[1;34m'bash build_lib.sh'\u001b[0m\u001b[1;33m)\u001b[0m\u001b[1;33m\u001b[0m\u001b[1;33m\u001b[0m\u001b[0m\n\u001b[0;32m    533\u001b[0m             \u001b[1;32mif\u001b[0m \u001b[0mret_val\u001b[0m \u001b[1;33m!=\u001b[0m \u001b[1;36m0\u001b[0m\u001b[1;33m:\u001b[0m\u001b[1;33m\u001b[0m\u001b[1;33m\u001b[0m\u001b[0m\n\u001b[1;32m--> 534\u001b[1;33m                 \u001b[1;32mraise\u001b[0m \u001b[0mException\u001b[0m\u001b[1;33m(\u001b[0m\u001b[1;34m'Failed to compile project \"{}\"'\u001b[0m\u001b[1;33m.\u001b[0m\u001b[0mformat\u001b[0m\u001b[1;33m(\u001b[0m\u001b[0mself\u001b[0m\u001b[1;33m.\u001b[0m\u001b[0mconfig\u001b[0m\u001b[1;33m.\u001b[0m\u001b[0mget_project_name\u001b[0m\u001b[1;33m(\u001b[0m\u001b[1;33m)\u001b[0m\u001b[1;33m)\u001b[0m\u001b[1;33m)\u001b[0m\u001b[1;33m\u001b[0m\u001b[1;33m\u001b[0m\u001b[0m\n\u001b[0m\u001b[0;32m    535\u001b[0m             \u001b[0mlib_name\u001b[0m \u001b[1;33m=\u001b[0m \u001b[1;34m'firmware/{}-{}.so'\u001b[0m\u001b[1;33m.\u001b[0m\u001b[0mformat\u001b[0m\u001b[1;33m(\u001b[0m\u001b[0mself\u001b[0m\u001b[1;33m.\u001b[0m\u001b[0mconfig\u001b[0m\u001b[1;33m.\u001b[0m\u001b[0mget_project_name\u001b[0m\u001b[1;33m(\u001b[0m\u001b[1;33m)\u001b[0m\u001b[1;33m,\u001b[0m \u001b[0mself\u001b[0m\u001b[1;33m.\u001b[0m\u001b[0mconfig\u001b[0m\u001b[1;33m.\u001b[0m\u001b[0mget_config_value\u001b[0m\u001b[1;33m(\u001b[0m\u001b[1;34m'Stamp'\u001b[0m\u001b[1;33m)\u001b[0m\u001b[1;33m)\u001b[0m\u001b[1;33m\u001b[0m\u001b[1;33m\u001b[0m\u001b[0m\n\u001b[0;32m    536\u001b[0m             \u001b[1;32mif\u001b[0m \u001b[0mself\u001b[0m\u001b[1;33m.\u001b[0m\u001b[0m_top_function_lib\u001b[0m \u001b[1;32mis\u001b[0m \u001b[1;32mnot\u001b[0m \u001b[1;32mNone\u001b[0m\u001b[1;33m:\u001b[0m\u001b[1;33m\u001b[0m\u001b[1;33m\u001b[0m\u001b[0m\n",
      "\u001b[1;31mException\u001b[0m: Failed to compile project \"myproject\""
     ]
    }
   ],
   "source": [
    "hls_model.compile()"
   ]
  },
  {
   "cell_type": "markdown",
   "metadata": {},
   "source": [
    "# Build"
   ]
  },
  {
   "cell_type": "code",
   "execution_count": 23,
   "metadata": {},
   "outputs": [
    {
     "name": "stdout",
     "output_type": "stream",
     "text": [
      "Project myproject_prj does not exist. Rerun \"hls4ml build -p model/QAE_model/hls4ml_prj\".\n"
     ]
    }
   ],
   "source": [
    "hls_model.build(csim=True, cosim=True)"
   ]
  },
  {
   "cell_type": "code",
   "execution_count": 33,
   "metadata": {},
   "outputs": [
    {
     "data": {
      "text/plain": [
       "<matplotlib.image.AxesImage at 0x2e8529439a0>"
      ]
     },
     "execution_count": 33,
     "metadata": {},
     "output_type": "execute_result"
    },
    {
     "data": {
      "image/png": "[encoded data removed]",
      "text/plain": [
       "<Figure size 432x288 with 1 Axes>"
      ]
     },
     "metadata": {
      "needs_background": "light"
     },
     "output_type": "display_data"
    }
   ],
   "source": [
    "import MNIST_dataset as mnist\n",
    "\n",
    "#Choose the final size of your image dataset\n",
    "size_final = 8\n",
    "\n",
    "data_zoom = mnist.MNISTData(size_initial=20, size_final=size_final, color_depth=5, flat=True)\n",
    "\n",
    "from matplotlib import pyplot as plt\n",
    "\n",
    "#           0  1  2  3  4  5  6  7  8  9          \n",
    "num_list = [3, 2, 1, 32,4, 15,21,0, 61,12] \n",
    "\n",
    "ax = plt.subplot(1, 1 , 1)\n",
    "img = data_zoom.x_test[32].reshape(1,-1)\n",
    "\n",
    "plt.imshow(img.reshape(size_final,size_final), cmap='gray_r')"
   ]
  },
  {
   "cell_type": "code",
   "execution_count": 34,
   "metadata": {},
   "outputs": [
    {
     "name": "stdout",
     "output_type": "stream",
     "text": [
      "--- 0.0641179084777832 seconds ---\n",
      "[[1.0493946e-05 8.7776874e-07 1.1448536e-04 9.3670255e-01 3.8663514e-02\n",
      "  2.2790924e-02 3.3426222e-06 5.6316128e-07 2.6797960e-04 1.4452839e-03]]\n",
      "1.0\n"
     ]
    }
   ],
   "source": [
    "import time\n",
    "import numpy as np\n",
    "start_time = time.time()\n",
    "out = qae_w_classifier_pruned.predict(img)\n",
    "print(\"--- %s seconds ---\" % (time.time() - start_time))\n",
    "print(out)\n",
    "print(np.sum(out))"
   ]
  },
  {
   "cell_type": "code",
   "execution_count": 7,
   "metadata": {},
   "outputs": [
    {
     "ename": "Exception",
     "evalue": "Model not compiled",
     "output_type": "error",
     "traceback": [
      "\u001b[1;31m---------------------------------------------------------------------------\u001b[0m",
      "\u001b[1;31mException\u001b[0m                                 Traceback (most recent call last)",
      "\u001b[1;32m~\\AppData\\Local\\Temp/ipykernel_2324/86221991.py\u001b[0m in \u001b[0;36m<module>\u001b[1;34m\u001b[0m\n\u001b[1;32m----> 1\u001b[1;33m \u001b[0my\u001b[0m \u001b[1;33m=\u001b[0m \u001b[0mhls_model\u001b[0m\u001b[1;33m.\u001b[0m\u001b[0mpredict\u001b[0m\u001b[1;33m(\u001b[0m\u001b[0mimg\u001b[0m\u001b[1;33m)\u001b[0m\u001b[1;33m[\u001b[0m\u001b[1;36m1\u001b[0m\u001b[1;33m]\u001b[0m\u001b[1;33m\u001b[0m\u001b[1;33m\u001b[0m\u001b[0m\n\u001b[0m",
      "\u001b[1;32m~\\miniconda3\\lib\\site-packages\\hls4ml\\model\\hls_model.py\u001b[0m in \u001b[0;36mpredict\u001b[1;34m(self, x)\u001b[0m\n\u001b[0;32m    599\u001b[0m \u001b[1;33m\u001b[0m\u001b[0m\n\u001b[0;32m    600\u001b[0m     \u001b[1;32mdef\u001b[0m \u001b[0mpredict\u001b[0m\u001b[1;33m(\u001b[0m\u001b[0mself\u001b[0m\u001b[1;33m,\u001b[0m \u001b[0mx\u001b[0m\u001b[1;33m)\u001b[0m\u001b[1;33m:\u001b[0m\u001b[1;33m\u001b[0m\u001b[1;33m\u001b[0m\u001b[0m\n\u001b[1;32m--> 601\u001b[1;33m         \u001b[0mtop_function\u001b[0m\u001b[1;33m,\u001b[0m \u001b[0mctype\u001b[0m \u001b[1;33m=\u001b[0m \u001b[0mself\u001b[0m\u001b[1;33m.\u001b[0m\u001b[0m_get_top_function\u001b[0m\u001b[1;33m(\u001b[0m\u001b[0mx\u001b[0m\u001b[1;33m)\u001b[0m\u001b[1;33m\u001b[0m\u001b[1;33m\u001b[0m\u001b[0m\n\u001b[0m\u001b[0;32m    602\u001b[0m         \u001b[0mn_samples\u001b[0m \u001b[1;33m=\u001b[0m \u001b[0mself\u001b[0m\u001b[1;33m.\u001b[0m\u001b[0m_compute_n_samples\u001b[0m\u001b[1;33m(\u001b[0m\u001b[0mx\u001b[0m\u001b[1;33m)\u001b[0m\u001b[1;33m\u001b[0m\u001b[1;33m\u001b[0m\u001b[0m\n\u001b[0;32m    603\u001b[0m         \u001b[0mn_inputs\u001b[0m \u001b[1;33m=\u001b[0m \u001b[0mlen\u001b[0m\u001b[1;33m(\u001b[0m\u001b[0mself\u001b[0m\u001b[1;33m.\u001b[0m\u001b[0mget_input_variables\u001b[0m\u001b[1;33m(\u001b[0m\u001b[1;33m)\u001b[0m\u001b[1;33m)\u001b[0m\u001b[1;33m\u001b[0m\u001b[1;33m\u001b[0m\u001b[0m\n",
      "\u001b[1;32m~\\miniconda3\\lib\\site-packages\\hls4ml\\model\\hls_model.py\u001b[0m in \u001b[0;36m_get_top_function\u001b[1;34m(self, x)\u001b[0m\n\u001b[0;32m    550\u001b[0m     \u001b[1;32mdef\u001b[0m \u001b[0m_get_top_function\u001b[0m\u001b[1;33m(\u001b[0m\u001b[0mself\u001b[0m\u001b[1;33m,\u001b[0m \u001b[0mx\u001b[0m\u001b[1;33m)\u001b[0m\u001b[1;33m:\u001b[0m\u001b[1;33m\u001b[0m\u001b[1;33m\u001b[0m\u001b[0m\n\u001b[0;32m    551\u001b[0m         \u001b[1;32mif\u001b[0m \u001b[0mself\u001b[0m\u001b[1;33m.\u001b[0m\u001b[0m_top_function_lib\u001b[0m \u001b[1;32mis\u001b[0m \u001b[1;32mNone\u001b[0m\u001b[1;33m:\u001b[0m\u001b[1;33m\u001b[0m\u001b[1;33m\u001b[0m\u001b[0m\n\u001b[1;32m--> 552\u001b[1;33m             \u001b[1;32mraise\u001b[0m \u001b[0mException\u001b[0m\u001b[1;33m(\u001b[0m\u001b[1;34m'Model not compiled'\u001b[0m\u001b[1;33m)\u001b[0m\u001b[1;33m\u001b[0m\u001b[1;33m\u001b[0m\u001b[0m\n\u001b[0m\u001b[0;32m    553\u001b[0m         \u001b[1;32mif\u001b[0m \u001b[0mlen\u001b[0m\u001b[1;33m(\u001b[0m\u001b[0mself\u001b[0m\u001b[1;33m.\u001b[0m\u001b[0mget_input_variables\u001b[0m\u001b[1;33m(\u001b[0m\u001b[1;33m)\u001b[0m\u001b[1;33m)\u001b[0m \u001b[1;33m==\u001b[0m \u001b[1;36m1\u001b[0m\u001b[1;33m:\u001b[0m\u001b[1;33m\u001b[0m\u001b[1;33m\u001b[0m\u001b[0m\n\u001b[0;32m    554\u001b[0m             \u001b[0mxlist\u001b[0m \u001b[1;33m=\u001b[0m \u001b[1;33m[\u001b[0m\u001b[0mx\u001b[0m\u001b[1;33m]\u001b[0m\u001b[1;33m\u001b[0m\u001b[1;33m\u001b[0m\u001b[0m\n",
      "\u001b[1;31mException\u001b[0m: Model not compiled"
     ]
    }
   ],
   "source": [
    "y = hls_model.predict(img)[1]\n"
   ]
  }
 ],
 "metadata": {
  "interpreter": {
   "hash": "789093bb736187c46b4a361b2c83e244a48ff9bb7ad40e66e5ffb40455c8edff"
  },
  "kernelspec": {
   "display_name": "Python 3",
   "language": "python",
   "name": "python3"
  },
  "language_info": {
   "codemirror_mode": {
    "name": "ipython",
    "version": 3
   },
   "file_extension": ".py",
   "mimetype": "text/x-python",
   "name": "python",
   "nbconvert_exporter": "python",
   "pygments_lexer": "ipython3",
   "version": "3.8.8"
  }
 },
 "nbformat": 4,
 "nbformat_minor": 1
}
