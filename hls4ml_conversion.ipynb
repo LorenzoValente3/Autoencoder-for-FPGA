{
 "cells": [
  {
   "cell_type": "markdown",
   "metadata": {},
   "source": [
    "### Loading _not quantized_ ML models"
   ]
  },
  {
   "cell_type": "code",
   "execution_count": 54,
   "metadata": {},
   "outputs": [
    {
     "name": "stdout",
     "output_type": "stream",
     "text": [
      "WARNING:tensorflow:No training configuration found in the save file, so the model was *not* compiled. Compile it manually.\n",
      "WARNING:tensorflow:No training configuration found in the save file, so the model was *not* compiled. Compile it manually.\n",
      "WARNING:tensorflow:No training configuration found in the save file, so the model was *not* compiled. Compile it manually.\n",
      "WARNING:tensorflow:No training configuration found in the save file, so the model was *not* compiled. Compile it manually.\n"
     ]
    }
   ],
   "source": [
    "from tensorflow.keras.models import load_model\n",
    "###### AE MODEL LOAD ######\n",
    "ae_wo_classifier = load_model('model/AE_model/KERAS_check_best_model.h5')\n",
    "ae_wo_classifier_pruned = load_model('model/AE_model/KERAS_check_pruned_best_model.h5')\n",
    "ae_w_classifier = load_model('model/AE_model/KERAS_check_best_model_classifier.h5')\n",
    "ae_w_classifier_pruned = load_model('model/AE_model/KERAS_check_pruned_best_model_classifier.h5')"
   ]
  },
  {
   "cell_type": "markdown",
   "metadata": {},
   "source": [
    "### Loading _quantized_ ML models"
   ]
  },
  {
   "cell_type": "code",
   "execution_count": 90,
   "metadata": {},
   "outputs": [
    {
     "name": "stdout",
     "output_type": "stream",
     "text": [
      "WARNING:tensorflow:No training configuration found in the save file, so the model was *not* compiled. Compile it manually.\n"
     ]
    },
    {
     "name": "stderr",
     "output_type": "stream",
     "text": [
      "WARNING:tensorflow:No training configuration found in the save file, so the model was *not* compiled. Compile it manually.\n"
     ]
    },
    {
     "name": "stdout",
     "output_type": "stream",
     "text": [
      "WARNING:tensorflow:No training configuration found in the save file, so the model was *not* compiled. Compile it manually.\n"
     ]
    },
    {
     "name": "stderr",
     "output_type": "stream",
     "text": [
      "WARNING:tensorflow:No training configuration found in the save file, so the model was *not* compiled. Compile it manually.\n"
     ]
    }
   ],
   "source": [
    "from tensorflow.keras.models import load_model\n",
    "from qkeras.utils import _add_supported_quantized_objects\n",
    "co = {}\n",
    "_add_supported_quantized_objects(co)\n",
    "###### QAE MODEL LOAD ######\n",
    "\n",
    "#qae_wo_classifier = load_model('model/QAE_model/KERAS_check_best_model.h5', custom_objects=co)\n",
    "qae_wo_classifier_pruned = load_model('model/QAE_model/KERAS_check_pruned_best_model.h5', custom_objects=co)\n",
    "#qae_w_classifier = load_model('model/QAE_model/KERAS_check_best_model_classifier.h5', custom_objects=co)\n",
    "\n",
    "#qae_w_classifier_pruned = load_model('model/QAE_model/KERAS_check_pruned_best_model_only_classifier.h5', custom_objects=co)\n",
    "qae_w_classifier_pruned = load_model('model/QAE_model/KERAS_check_pruned_best_model_classifier1.h5', custom_objects=co)"
   ]
  },
  {
   "cell_type": "markdown",
   "metadata": {},
   "source": [
    "## Check sparsity\n",
    "Make a quick check that the model was indeed trained sparse. We'll just make a histogram of the weights of the 1st layer, and hopefully observe a large peak in the bin containing '0'. Note logarithmic y axis."
   ]
  },
  {
   "cell_type": "code",
   "execution_count": 84,
   "metadata": {},
   "outputs": [
    {
     "name": "stdout",
     "output_type": "stream",
     "text": [
      "weights:\n",
      "225 \n",
      " 34\n",
      "bias:\n",
      "15 \n",
      " 14\n",
      "layer2 \n",
      "\n",
      "weights:\n",
      "225 \n",
      " 34\n",
      "bias:\n",
      "15 \n",
      " 15\n",
      "layer3 \n",
      "\n",
      "weights:\n",
      "32 \n",
      " 5\n",
      "bias:\n",
      "16 \n",
      " 10\n",
      "layer5 \n",
      "\n",
      "528 \n",
      " 416\n"
     ]
    }
   ],
   "source": [
    "sum = 0\n",
    "sum_pru = 0\n",
    "\n",
    "for i in [2,3,5]:\n",
    "    for j in [0,1]:\n",
    "        w= ae_w_classifier.layers[i].weights[j].numpy()\n",
    "        sum +=w.size \n",
    "        w_prun = ae_w_classifier_pruned.layers[i].weights[j].numpy()\n",
    "        sum_pru += w.size - np.sum(w_prun==0)\n",
    "\n",
    "        if j==0:\n",
    "            print('weights:')\n",
    "        else:\n",
    "            print('bias:')\n",
    "        \n",
    "        print(w.size,'\\n', w.size - np.sum(w_prun==0))\n",
    "\n",
    "    print(\"layer\"+str(i),'\\n')\n",
    "print (sum, '\\n',  sum -sum_pru)"
   ]
  },
  {
   "cell_type": "code",
   "execution_count": 118,
   "metadata": {},
   "outputs": [
    {
     "data": {
      "image/png": "[encoded data removed]",
      "text/plain": [
       "<Figure size 720x720 with 7 Axes>"
      ]
     },
     "metadata": {
      "needs_background": "light"
     },
     "output_type": "display_data"
    }
   ],
   "source": [
    "import numpy as np\n",
    "import matplotlib.pyplot as plt\n",
    "\n",
    "w = 10\n",
    "h = 10\n",
    "fig = plt.figure(figsize=(10, 10))\n",
    "columns = 2\n",
    "rows = 4\n",
    "fig.subplots_adjust(hspace=0.4, wspace=0.4)\n",
    "\n",
    "num_layers = [1,2,3,4,7,9,11]#,11,14,15]\n",
    "#this applies for the quantized loop\n",
    "num_layers = [1,3,5,7,8,10,12]#,11,14,15]\n",
    "\n",
    "\n",
    "j = 1\n",
    "\n",
    "for i in num_layers:\n",
    "#for i in range(1, columns*rows +1):  \n",
    "    fig.add_subplot(rows, columns, j)\n",
    "    w = qae_w_classifier_pruned.layers[i].weights[0].numpy()\n",
    "    h, b = np.histogram(w, bins=100)\n",
    "    plt.bar(b[:-1], h, width=b[1]-b[0])\n",
    "    plt.semilogy()\n",
    "    plt.title('Weight distribution of layer '+ str(j))\n",
    "    j += 1\n",
    "\n",
    "plt.savefig('./Report/images/section4/ae_pruned_weightsdistr.png')\n",
    "plt.show()\n"
   ]
  },
  {
   "cell_type": "markdown",
   "metadata": {},
   "source": [
    "# Make an hls4ml config & model"
   ]
  },
  {
   "cell_type": "code",
   "execution_count": 2,
   "metadata": {},
   "outputs": [
    {
     "name": "stderr",
     "output_type": "stream",
     "text": [
      "C:\\Users\\loren\\miniconda3\\lib\\site-packages\\hls4ml\\converters\\__init__.py:16: UserWarning: WARNING: Pytorch converter is not enabled!\n",
      "  warnings.warn(\"WARNING: Pytorch converter is not enabled!\")\n"
     ]
    },
    {
     "name": "stdout",
     "output_type": "stream",
     "text": [
      "Interpreting Model\n",
      "Topology:\n",
      "Layer name: encoder_input, layer type: Input\n",
      "Layer name: fc1, layer type: QDense\n",
      "Layer name: relu1, layer type: QActivation\n",
      "Layer name: fc2_prun, layer type: QDense\n",
      "Layer name: relu2, layer type: QActivation\n",
      "Layer name: fc3_prun, layer type: QDense\n",
      "Layer name: relu3, layer type: QActivation\n",
      "Layer name: encoder_output, layer type: Dense\n",
      "  -> Activation (relu), layer name: encoder_output\n",
      "Layer name: fc4_prunedclass, layer type: QDense\n",
      "Layer name: prunclass_relu4, layer type: QActivation\n",
      "Layer name: fc5_class, layer type: QDense\n",
      "Layer name: class_relu5, layer type: QActivation\n",
      "Layer name: classifier_out, layer type: QDense\n",
      "Layer name: classifier_output, layer type: Activation\n",
      "-----------------------------------\n",
      "Model\n",
      "  Precision:         ap_fixed<16,6>\n",
      "  ReuseFactor:       1\n",
      "  Strategy:          Latency\n",
      "LayerName\n",
      "  encoder_input\n",
      "    Precision:       ap_fixed<6,0>\n",
      "  fc1\n",
      "    Precision\n",
      "      weight:        ap_fixed<5,1>\n",
      "      bias:          ap_fixed<5,1>\n",
      "    ReuseFactor:     1\n",
      "  relu1\n",
      "    Precision\n",
      "      result:        ap_ufixed<5,0>\n",
      "    ReuseFactor:     1\n",
      "  fc2_prun\n",
      "    Precision\n",
      "      weight:        ap_fixed<5,1>\n",
      "      bias:          ap_fixed<5,1>\n",
      "    ReuseFactor:     1\n",
      "  relu2\n",
      "    Precision\n",
      "      result:        ap_ufixed<5,0>\n",
      "    ReuseFactor:     1\n",
      "  fc3_prun\n",
      "    Precision\n",
      "      weight:        ap_fixed<5,1>\n",
      "      bias:          ap_fixed<5,1>\n",
      "    ReuseFactor:     1\n",
      "  relu3\n",
      "    Precision\n",
      "      result:        ap_ufixed<5,0>\n",
      "    ReuseFactor:     1\n",
      "  encoder_output\n",
      "    Precision\n",
      "      weight:        ap_fixed<16,6>\n",
      "      bias:          ap_fixed<16,6>\n",
      "      result:        ap_fixed<16,6>\n",
      "    ReuseFactor:     1\n",
      "  encoder_output_relu\n",
      "    Precision:       ap_fixed<16,6>\n",
      "    ReuseFactor:     1\n",
      "    table_size:      1024\n",
      "    table_t:         ap_fixed<18,8>\n",
      "  fc4_prunedclass\n",
      "    Precision\n",
      "      weight:        ap_fixed<6,1>\n",
      "      bias:          ap_fixed<6,1>\n",
      "    ReuseFactor:     1\n",
      "  prunclass_relu4\n",
      "    Precision\n",
      "      result:        ap_ufixed<6,0>\n",
      "    ReuseFactor:     1\n",
      "  fc5_class\n",
      "    Precision\n",
      "      weight:        ap_fixed<6,1>\n",
      "      bias:          ap_fixed<6,1>\n",
      "    ReuseFactor:     1\n",
      "  class_relu5\n",
      "    Precision\n",
      "      result:        ap_ufixed<6,0>\n",
      "    ReuseFactor:     1\n",
      "  classifier_out\n",
      "    Precision\n",
      "      weight:        ap_fixed<16,7>\n",
      "      bias:          ap_fixed<16,7>\n",
      "    ReuseFactor:     1\n",
      "  classifier_output\n",
      "    Precision:       ap_fixed<16,6>\n",
      "    ReuseFactor:     1\n",
      "    table_size:      1024\n",
      "    exp_table_t:     ap_fixed<18,8>\n",
      "    inv_table_t:     ap_fixed<18,4>\n",
      "-----------------------------------\n",
      "Interpreting Model\n",
      "Topology:\n",
      "Layer name: encoder_input, layer type: InputLayer, input shapes: [[None, 64]], output shape: [None, 64]\n",
      "Layer name: fc1, layer type: QDense, input shapes: [[None, 64]], output shape: [None, 15]\n",
      "Layer name: relu1, layer type: Activation, input shapes: [[None, 15]], output shape: [None, 15]\n",
      "Layer name: fc2_prun, layer type: QDense, input shapes: [[None, 15]], output shape: [None, 15]\n",
      "Layer name: relu2, layer type: Activation, input shapes: [[None, 15]], output shape: [None, 15]\n",
      "Layer name: fc3_prun, layer type: QDense, input shapes: [[None, 15]], output shape: [None, 15]\n",
      "Layer name: relu3, layer type: Activation, input shapes: [[None, 15]], output shape: [None, 15]\n",
      "Layer name: encoder_output, layer type: Dense, input shapes: [[None, 15]], output shape: [None, 2]\n",
      "Layer name: fc4_prunedclass, layer type: QDense, input shapes: [[None, 2]], output shape: [None, 16]\n",
      "Layer name: prunclass_relu4, layer type: Activation, input shapes: [[None, 16]], output shape: [None, 16]\n",
      "Layer name: fc5_class, layer type: QDense, input shapes: [[None, 16]], output shape: [None, 40]\n",
      "Layer name: class_relu5, layer type: Activation, input shapes: [[None, 40]], output shape: [None, 40]\n",
      "Layer name: classifier_out, layer type: QDense, input shapes: [[None, 40]], output shape: [None, 10]\n",
      "Layer name: classifier_output, layer type: Softmax, input shapes: [[None, 10]], output shape: [None, 10]\n",
      "Creating HLS model\n"
     ]
    }
   ],
   "source": [
    "import plotting\n",
    "import hls4ml\n",
    "hls4ml.model.optimizer.OutputRoundingSaturationMode.layers = ['Activation']\n",
    "hls4ml.model.optimizer.OutputRoundingSaturationMode.rounding_mode = 'AP_RND'\n",
    "hls4ml.model.optimizer.OutputRoundingSaturationMode.saturation_mode = 'AP_SAT'\n",
    "\n",
    "config = hls4ml.utils.config_from_keras_model(qae_w_classifier_pruned, granularity='name')\n",
    "config['LayerName']['encoder_input']['Precision']='ap_ufixed<6,0>'\n",
    "\n",
    "#config['LayerName']['classifier_output']['Precision'] = 'ap_fixed<32,12>'\n",
    "config['LayerName']['classifier_output']['exp_table_t'] = 'ap_fixed<18,8>'\n",
    "config['LayerName']['classifier_output']['inv_table_t'] = 'ap_fixed<18,4>'\n",
    "print(\"-----------------------------------\")\n",
    "plotting.print_dict(config)\n",
    "print(\"-----------------------------------\")\n",
    "hls_model = hls4ml.converters.convert_from_keras_model(qae_w_classifier_pruned,\n",
    "                                                       hls_config=config,\n",
    "                                                       output_dir='model/QAE_model/hls4ml_prj',\n",
    "                                                       part='xcu250-figd2104-2L-e')\n",
    "                                                       #part='xcvu9p-flgc2104aaz')\n",
    "                                                       #part='xc7vx690t-ffg176-2')\n"
   ]
  },
  {
   "cell_type": "markdown",
   "metadata": {},
   "source": [
    "# Compile"
   ]
  },
  {
   "cell_type": "code",
   "execution_count": null,
   "metadata": {},
   "outputs": [],
   "source": [
    "hls_model.compile()"
   ]
  },
  {
   "cell_type": "markdown",
   "metadata": {},
   "source": [
    "# Build"
   ]
  },
  {
   "cell_type": "code",
   "execution_count": null,
   "metadata": {},
   "outputs": [],
   "source": [
    "hls_model.build(csim=True, cosim=True)"
   ]
  },
  {
   "cell_type": "markdown",
   "metadata": {},
   "source": [
    "### Prediction results"
   ]
  },
  {
   "cell_type": "code",
   "execution_count": 4,
   "metadata": {},
   "outputs": [],
   "source": [
    "import MNIST_database as mnist\n",
    "\n",
    "#Choose the final size of your image dataset\n",
    "size_final = 8\n",
    "\n",
    "data_zoom = mnist.MNISTData(size_initial=20, size_final=size_final, color_depth=5, flat=True)\n",
    "\n",
    "from matplotlib import pyplot as plt\n",
    "\n",
    "#           0  1  2  3  4  5  6  7  8  9          \n",
    "num_list = [3, 2, 1, 32,4, 15,21,0, 61,12] \n",
    "\n"
   ]
  },
  {
   "cell_type": "code",
   "execution_count": null,
   "metadata": {},
   "outputs": [],
   "source": [
    "#img = np.flip(data_zoom.x_test[num_list[3]].reshape(1,-1))\n",
    "#img = data_zoom.x_test[32].reshape(1,-1)\n",
    "#plt.imshow(img.reshape(size_final,size_final), cmap='gray_r')"
   ]
  },
  {
   "cell_type": "code",
   "execution_count": 10,
   "metadata": {},
   "outputs": [
    {
     "name": "stdout",
     "output_type": "stream",
     "text": [
      "[[0.      0.      0.      0.09375 0.84375 0.      0.      0.      0.\n",
      "  0.      0.09375 0.96875 0.96875 0.15625 0.      0.      0.      0.\n",
      "  0.96875 0.96875 0.6875  0.875   0.      0.      0.      0.      0.96875\n",
      "  0.      0.      0.125   0.96875 0.      0.      0.3125  0.53125 0.\n",
      "  0.      0.125   0.96875 0.      0.      0.59375 0.5625  0.      0.28125\n",
      "  0.96875 0.59375 0.      0.      0.15625 0.96875 0.9375  0.9375  0.875\n",
      "  0.      0.      0.      0.      0.0625  0.96875 0.28125 0.      0.\n",
      "  0.     ]]\n"
     ]
    },
    {
     "data": {
      "text/plain": [
       "<matplotlib.image.AxesImage at 0x22241f426d0>"
      ]
     },
     "execution_count": 10,
     "metadata": {},
     "output_type": "execute_result"
    },
    {
     "data": {
      "image/png": "[encoded data removed]",
      "text/plain": [
       "<Figure size 432x288 with 1 Axes>"
      ]
     },
     "metadata": {
      "needs_background": "light"
     },
     "output_type": "display_data"
    }
   ],
   "source": [
    "#img = []\n",
    "ax = plt.subplot(1, 1 , 1)\n",
    "img = data_zoom.x_test[num_list[0]].reshape(1,-1)\n",
    "\n",
    "plt.imshow(img.reshape(size_final,size_final), cmap='gray_r')\n",
    "print(img)\n",
    "plt.imshow(img.reshape(size_final,size_final), cmap='gray_r')"
   ]
  },
  {
   "cell_type": "code",
   "execution_count": 11,
   "metadata": {},
   "outputs": [
    {
     "name": "stdout",
     "output_type": "stream",
     "text": [
      "--- 0.061026573181152344 seconds ---\n",
      "[[3.8145399e-03 9.8177010e-01 1.7132721e-03 2.4785351e-03 2.4927363e-05\n",
      "  9.2737708e-04 2.3345661e-04 7.2462396e-03 1.0432226e-04 1.6870706e-03]]\n",
      "0.99999976\n"
     ]
    },
    {
     "data": {
      "image/png": "[encoded data removed]",
      "text/plain": [
       "<Figure size 432x288 with 1 Axes>"
      ]
     },
     "metadata": {
      "needs_background": "light"
     },
     "output_type": "display_data"
    }
   ],
   "source": [
    "import time\n",
    "import numpy as np\n",
    "img = data_zoom.x_test[num_list[1]].reshape(1,-1)\n",
    "plt.imshow(img.reshape(size_final,size_final), cmap='gray_r')\n",
    "start_time = time.time()\n",
    "out = qae_w_classifier_pruned.predict(img)\n",
    "print(\"--- %s seconds ---\" % (time.time() - start_time))\n",
    "print(out)\n",
    "print(np.sum(out))"
   ]
  },
  {
   "cell_type": "code",
   "execution_count": null,
   "metadata": {},
   "outputs": [],
   "source": [
    "y = hls_model.predict(img)[1]\n"
   ]
  }
 ],
 "metadata": {
  "interpreter": {
   "hash": "789093bb736187c46b4a361b2c83e244a48ff9bb7ad40e66e5ffb40455c8edff"
  },
  "kernelspec": {
   "display_name": "Python 3",
   "language": "python",
   "name": "python3"
  },
  "language_info": {
   "codemirror_mode": {
    "name": "ipython",
    "version": 3
   },
   "file_extension": ".py",
   "mimetype": "text/x-python",
   "name": "python",
   "nbconvert_exporter": "python",
   "pygments_lexer": "ipython3",
   "version": "3.8.8"
  }
 },
 "nbformat": 4,
 "nbformat_minor": 1
}
