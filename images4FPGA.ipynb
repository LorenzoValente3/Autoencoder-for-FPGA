{
 "cells": [
  {
   "cell_type": "code",
   "execution_count": 1,
   "metadata": {},
   "outputs": [],
   "source": [
    "import tensorflow as tf\n",
    "from tensorflow.python.keras import Input\n",
    "from tensorflow.python.keras.models import Model\n",
    "from tensorflow.python.keras.engine.keras_tensor import KerasTensor\n",
    "from tensorflow.python.keras.engine.functional import Functional\n",
    "import numpy as np\n",
    "from matplotlib import pyplot as plt\n",
    "from tensorflow.keras.layers import Dense\n",
    "from tensorflow.python.keras.regularizers import l1, l2\n",
    "import os\n",
    "\n",
    "from tensorflow_model_optimization.python.core.sparsity.keras import prune, pruning_callbacks, pruning_schedule\n",
    "from tensorflow_model_optimization.sparsity.keras import strip_pruning, prune_low_magnitude\n",
    "\n",
    "from callbacks import all_callbacks\n"
   ]
  },
  {
   "cell_type": "code",
   "execution_count": 50,
   "metadata": {},
   "outputs": [
    {
     "data": {
      "image/png": "[encoded data removed]",
      "text/plain": [
       "<Figure size 432x288 with 1 Axes>"
      ]
     },
     "metadata": {
      "needs_background": "light"
     },
     "output_type": "display_data"
    }
   ],
   "source": [
    "import MNIST_dataset as mnist\n",
    "\n",
    "#Choose the final size of your image dataset\n",
    "size_final = 8\n",
    "\n",
    "data_zoom = mnist.MNISTData(size_initial=20, size_final=size_final, color_depth=5, flat=True)\n",
    "test= data_zoom.x_test\n",
    "ax = plt.subplot(1, 1 , 1)\n",
    "\n",
    "plt.imshow(test[1].reshape(size_final,size_final), cmap='gray_r')\n",
    "ax.get_xaxis().set_visible(False)\n",
    "ax.get_yaxis().set_visible(False)"
   ]
  },
  {
   "cell_type": "code",
   "execution_count": 66,
   "metadata": {},
   "outputs": [],
   "source": [
    "#lista contenente gli indici delle immagini campione nel Test Set del MNIST\n",
    "#num_list[0] contiene l'indice dell'immagine di uno zero, num_list[1] di un uno e così via\n",
    "#           0  1  2  3  4  5  6  7  8  9          \n",
    "num_list = [3, 2, 1, 32,4, 15,21,0, 61,12]\n",
    "\n",
    "\n",
    "#---------------------------------------------------------\n",
    "#--FORMAT OF INPUT IMAGES FOR NN IN FPGA------------------\n",
    "#----------- ap_fixed<6,0> -------------------------------\n",
    "#---------------------------------------------------------\n",
    "\n",
    "# last pixel              first pixel\n",
    "#[0  1  0  0  0  0 | ... | 0  0  0  1  0  0]\n",
    "# s  4  3  2  1  0         s  4  3  2  1  0 \n",
    "#    2  2  2  2  2            2  2  2  2  2  \n",
    "\n",
    "\n",
    "with open('TESTimg_downto_apfixed6.txt', 'w') as f:\n",
    "    for index , num in enumerate(num_list):\n",
    "        f.write(str(index)+ ': ')\n",
    "        for i in np.flip(test[num]):\n",
    "            f.write('{:06d}'.format(int((bin(int(i*256/4))[2:]))))\n",
    "            #print(bin(int(i*256))[2:]).count()\n",
    "        f.write('\\n\\n')\n"
   ]
  },
  {
   "cell_type": "code",
   "execution_count": 67,
   "metadata": {},
   "outputs": [
    {
     "name": "stdout",
     "output_type": "stream",
     "text": [
      "[ 0.     0.     0.     9.375 84.375  0.     0.     0.     0.     0.\n",
      "  9.375 96.875 96.875 15.625  0.     0.     0.     0.    96.875 96.875\n",
      " 68.75  87.5    0.     0.     0.     0.    96.875  0.     0.    12.5\n",
      " 96.875  0.     0.    31.25  53.125  0.     0.    12.5   96.875  0.\n",
      "  0.    59.375 56.25   0.    28.125 96.875 59.375  0.     0.    15.625\n",
      " 96.875 93.75  93.75  87.5    0.     0.     0.     0.     6.25  96.875\n",
      " 28.125  0.     0.     0.   ]\n",
      "[ 0.  0.  0.  0.  0.  0.  0.  0.  0. 28. 16.  0.  0.  0.  0.  0.  0. 12.\n",
      " 14. 44. 46. 34. 58.  0.  0.  0.  0.  0.  0. 38.  8.  0.  0.  0.  0.  0.\n",
      "  0. 62.  0.  0.  0.  0.  0.  0. 46.  6.  0.  0.  0.  0.  0.  6. 50.  0.\n",
      "  0.  0.  0.  0.  0. 62.  0.  0.  0.  0.]\n"
     ]
    }
   ],
   "source": [
    "print(test[3]*100)\n",
    "print(test[0]*256/4)"
   ]
  },
  {
   "cell_type": "code",
   "execution_count": null,
   "metadata": {},
   "outputs": [],
   "source": []
  }
 ],
 "metadata": {
  "interpreter": {
   "hash": "789093bb736187c46b4a361b2c83e244a48ff9bb7ad40e66e5ffb40455c8edff"
  },
  "kernelspec": {
   "display_name": "Python 3",
   "language": "python",
   "name": "python3"
  },
  "language_info": {
   "codemirror_mode": {
    "name": "ipython",
    "version": 3
   },
   "file_extension": ".py",
   "mimetype": "text/x-python",
   "name": "python",
   "nbconvert_exporter": "python",
   "pygments_lexer": "ipython3",
   "version": "3.8.8"
  }
 },
 "nbformat": 4,
 "nbformat_minor": 1
}
